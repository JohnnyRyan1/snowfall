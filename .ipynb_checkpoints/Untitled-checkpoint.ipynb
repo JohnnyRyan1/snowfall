{
 "cells": [
  {
   "cell_type": "code",
   "execution_count": 26,
   "id": "bf8f5608-6278-49eb-892c-3967d232ff1e",
   "metadata": {},
   "outputs": [
    {
     "name": "stderr",
     "output_type": "stream",
     "text": [
      "/opt/anaconda3/envs/clouds/lib/python3.8/site-packages/pyproj/crs/crs.py:1256: UserWarning: You will likely lose important projection information when converting to a PROJ string from another format. See: https://proj.org/faq.html#what-is-the-best-format-for-describing-coordinate-reference-systems\n",
      "  return self._crs.to_proj4(version=version)\n"
     ]
    },
    {
     "ename": "AttributeError",
     "evalue": "'numpy.ndarray' object has no attribute 'chunks'",
     "output_type": "error",
     "traceback": [
      "\u001b[0;31m---------------------------------------------------------------------------\u001b[0m",
      "\u001b[0;31mAttributeError\u001b[0m                            Traceback (most recent call last)",
      "Input \u001b[0;32mIn [26]\u001b[0m, in \u001b[0;36m<cell line: 30>\u001b[0;34m()\u001b[0m\n\u001b[1;32m     21\u001b[0m target_def \u001b[38;5;241m=\u001b[39m create_area_def(\u001b[38;5;124m'\u001b[39m\u001b[38;5;124mmerra2\u001b[39m\u001b[38;5;124m'\u001b[39m,\n\u001b[1;32m     22\u001b[0m                            {\u001b[38;5;124m'\u001b[39m\u001b[38;5;124mproj\u001b[39m\u001b[38;5;124m'\u001b[39m: \u001b[38;5;124m'\u001b[39m\u001b[38;5;124mlonglat\u001b[39m\u001b[38;5;124m'\u001b[39m, \u001b[38;5;124m'\u001b[39m\u001b[38;5;124mdatum\u001b[39m\u001b[38;5;124m'\u001b[39m: \u001b[38;5;124m'\u001b[39m\u001b[38;5;124mWGS84\u001b[39m\u001b[38;5;124m'\u001b[39m},\n\u001b[1;32m     23\u001b[0m                            area_extent\u001b[38;5;241m=\u001b[39m[merra_file[\u001b[38;5;124m'\u001b[39m\u001b[38;5;124mlon\u001b[39m\u001b[38;5;124m'\u001b[39m]\u001b[38;5;241m.\u001b[39mdata\u001b[38;5;241m.\u001b[39mmin()\u001b[38;5;241m-\u001b[39mdx\u001b[38;5;241m/\u001b[39m\u001b[38;5;241m2\u001b[39m, merra_file[\u001b[38;5;124m'\u001b[39m\u001b[38;5;124mlat\u001b[39m\u001b[38;5;124m'\u001b[39m]\u001b[38;5;241m.\u001b[39mdata\u001b[38;5;241m.\u001b[39mmin()\u001b[38;5;241m-\u001b[39mdy\u001b[38;5;241m/\u001b[39m\u001b[38;5;241m2\u001b[39m, \n\u001b[0;32m   (...)\u001b[0m\n\u001b[1;32m     26\u001b[0m                            units\u001b[38;5;241m=\u001b[39m\u001b[38;5;124m'\u001b[39m\u001b[38;5;124mdegrees\u001b[39m\u001b[38;5;124m'\u001b[39m,\n\u001b[1;32m     27\u001b[0m                            description\u001b[38;5;241m=\u001b[39m\u001b[38;5;124m'\u001b[39m\u001b[38;5;124mGreenland 0.625 x 0.5 degree lat-lon grid\u001b[39m\u001b[38;5;124m'\u001b[39m)\n\u001b[1;32m     29\u001b[0m \u001b[38;5;66;03m# Resample\u001b[39;00m\n\u001b[0;32m---> 30\u001b[0m resampler \u001b[38;5;241m=\u001b[39m \u001b[43mBucketResampler\u001b[49m\u001b[43m(\u001b[49m\u001b[43mtarget_def\u001b[49m\u001b[43m,\u001b[49m\u001b[43m \u001b[49m\u001b[43mismip\u001b[49m\u001b[43m[\u001b[49m\u001b[38;5;124;43m'\u001b[39;49m\u001b[38;5;124;43mlon\u001b[39;49m\u001b[38;5;124;43m'\u001b[39;49m\u001b[43m]\u001b[49m\u001b[38;5;241;43m.\u001b[39;49m\u001b[43mdata\u001b[49m\u001b[43m,\u001b[49m\u001b[43m \u001b[49m\u001b[43mismip\u001b[49m\u001b[43m[\u001b[49m\u001b[38;5;124;43m'\u001b[39;49m\u001b[38;5;124;43mlat\u001b[39;49m\u001b[38;5;124;43m'\u001b[39;49m\u001b[43m]\u001b[49m\u001b[38;5;241;43m.\u001b[39;49m\u001b[43mdata\u001b[49m\u001b[43m)\u001b[49m\n",
      "File \u001b[0;32m/opt/anaconda3/envs/clouds/lib/python3.8/site-packages/pyresample/bucket/__init__.py:90\u001b[0m, in \u001b[0;36mBucketResampler.__init__\u001b[0;34m(self, target_area, source_lons, source_lats)\u001b[0m\n\u001b[1;32m     88\u001b[0m \u001b[38;5;28mself\u001b[39m\u001b[38;5;241m.\u001b[39my_idxs \u001b[38;5;241m=\u001b[39m \u001b[38;5;28;01mNone\u001b[39;00m\n\u001b[1;32m     89\u001b[0m \u001b[38;5;28mself\u001b[39m\u001b[38;5;241m.\u001b[39midxs \u001b[38;5;241m=\u001b[39m \u001b[38;5;28;01mNone\u001b[39;00m\n\u001b[0;32m---> 90\u001b[0m \u001b[38;5;28;43mself\u001b[39;49m\u001b[38;5;241;43m.\u001b[39;49m\u001b[43m_get_indices\u001b[49m\u001b[43m(\u001b[49m\u001b[43m)\u001b[49m\n\u001b[1;32m     91\u001b[0m \u001b[38;5;28mself\u001b[39m\u001b[38;5;241m.\u001b[39mcounts \u001b[38;5;241m=\u001b[39m \u001b[38;5;28;01mNone\u001b[39;00m\n",
      "File \u001b[0;32m/opt/anaconda3/envs/clouds/lib/python3.8/site-packages/pyresample/bucket/__init__.py:122\u001b[0m, in \u001b[0;36mBucketResampler._get_indices\u001b[0;34m(self)\u001b[0m\n\u001b[1;32m    119\u001b[0m lons \u001b[38;5;241m=\u001b[39m \u001b[38;5;28mself\u001b[39m\u001b[38;5;241m.\u001b[39msource_lons\u001b[38;5;241m.\u001b[39mravel()\n\u001b[1;32m    120\u001b[0m lats \u001b[38;5;241m=\u001b[39m \u001b[38;5;28mself\u001b[39m\u001b[38;5;241m.\u001b[39msource_lats\u001b[38;5;241m.\u001b[39mravel()\n\u001b[1;32m    121\u001b[0m result \u001b[38;5;241m=\u001b[39m da\u001b[38;5;241m.\u001b[39mmap_blocks(\u001b[38;5;28mself\u001b[39m\u001b[38;5;241m.\u001b[39m_get_proj_coordinates, lons, lats,\n\u001b[0;32m--> 122\u001b[0m                        new_axis\u001b[38;5;241m=\u001b[39m\u001b[38;5;241m0\u001b[39m, chunks\u001b[38;5;241m=\u001b[39m(\u001b[38;5;241m2\u001b[39m,) \u001b[38;5;241m+\u001b[39m \u001b[43mlons\u001b[49m\u001b[38;5;241;43m.\u001b[39;49m\u001b[43mchunks\u001b[49m)\n\u001b[1;32m    123\u001b[0m proj_x \u001b[38;5;241m=\u001b[39m result[\u001b[38;5;241m0\u001b[39m, :]\n\u001b[1;32m    124\u001b[0m proj_y \u001b[38;5;241m=\u001b[39m result[\u001b[38;5;241m1\u001b[39m, :]\n",
      "\u001b[0;31mAttributeError\u001b[0m: 'numpy.ndarray' object has no attribute 'chunks'"
     ]
    }
   ],
   "source": [
    "import xarray as xr\n",
    "import numpy as np\n",
    "from pyresample.bucket import BucketResampler\n",
    "from pyresample import create_area_def\n",
    "\n",
    "# Define base path\n",
    "path = '/Users/jryan4/Dropbox (University of Oregon)/research/snowfall/'\n",
    "\n",
    "# Define MERRA data\n",
    "merra_file = xr.open_dataset(path + 'data/merra_sample/MERRA2_200.tavg1_2d_int_Nx.20000101.SUB.nc')\n",
    "\n",
    "# Read ISMIP data\n",
    "ismip = xr.open_dataset(path + 'data/masks/1km-ISMIP6.nc')\n",
    "\n",
    "# Meshgrid lat/lons\n",
    "merra_mesh_lon, merra_mesh_lat = np.meshgrid(merra_file['lon'], merra_file['lat'])\n",
    "\n",
    "# Create area definition\n",
    "dy = 0.5\n",
    "dx = 0.625\n",
    "target_def = create_area_def('merra2',\n",
    "                           {'proj': 'longlat', 'datum': 'WGS84'},\n",
    "                           area_extent=[merra_file['lon'].data.min()-dx/2, merra_file['lat'].data.min()-dy/2, \n",
    "                                        merra_file['lon'].data.max()+dx/2, merra_file['lat'].data.max()+dy/2],\n",
    "                           resolution=(dx, dy),\n",
    "                           units='degrees',\n",
    "                           description='Greenland 0.625 x 0.5 degree lat-lon grid')\n",
    "\n",
    "# Resample\n",
    "resampler = BucketResampler(target_def, ismip['lon'].data, ismip['lat'].data)"
   ]
  },
  {
   "cell_type": "code",
   "execution_count": 27,
   "id": "70cefcb7-1d49-4f7c-be16-0adf85f0ad49",
   "metadata": {},
   "outputs": [
    {
     "name": "stdout",
     "output_type": "stream",
     "text": [
      "1.22.1\n"
     ]
    }
   ],
   "source": [
    "print(pyresample.__version__)"
   ]
  },
  {
   "cell_type": "code",
   "execution_count": null,
   "id": "6ec22b4b-1e75-4a9d-ad36-b31695725b9f",
   "metadata": {},
   "outputs": [],
   "source": []
  }
 ],
 "metadata": {
  "kernelspec": {
   "display_name": "Python 3 (ipykernel)",
   "language": "python",
   "name": "python3"
  },
  "language_info": {
   "codemirror_mode": {
    "name": "ipython",
    "version": 3
   },
   "file_extension": ".py",
   "mimetype": "text/x-python",
   "name": "python",
   "nbconvert_exporter": "python",
   "pygments_lexer": "ipython3",
   "version": "3.8.12"
  }
 },
 "nbformat": 4,
 "nbformat_minor": 5
}
