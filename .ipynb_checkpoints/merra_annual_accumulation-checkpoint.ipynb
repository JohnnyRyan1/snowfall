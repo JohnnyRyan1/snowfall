{
 "cells": [
  {
   "cell_type": "code",
   "execution_count": 6,
   "id": "7b64dba7-80f9-46e3-b282-6d3d22dd69c6",
   "metadata": {},
   "outputs": [],
   "source": [
    "\"\"\" \n",
    "\n",
    "DESCRIPTION\n",
    "\n",
    "1. Produce annual July-July accumulation data from MERRA2.\n",
    "\n",
    "\"\"\"\n",
    "\n",
    "# Import modules\n",
    "import xarray as xr\n",
    "import numpy as np\n",
    "import pandas as pd\n",
    "import glob\n",
    "import os\n",
    "import matplotlib.pyplot as plt\n",
    "\n",
    "# Define path\n",
    "path = '/Users/jryan4/Dropbox (University of Oregon)/research/snowfall/data/'"
   ]
  },
  {
   "cell_type": "code",
   "execution_count": 120,
   "id": "aed2e320-9243-4233-b7e3-9c519f8fe43c",
   "metadata": {},
   "outputs": [],
   "source": [
    "# Define MERRA files\n",
    "merra_snow_files = sorted(glob.glob(path + 'merra_snowfall_monthly/*.nc'))\n",
    "\n",
    "# Define years\n",
    "years = np.arange(1981, 2022)"
   ]
  },
  {
   "cell_type": "code",
   "execution_count": 25,
   "id": "e4bc9190-84b4-41b1-b9b0-78374a49a23d",
   "metadata": {},
   "outputs": [],
   "source": [
    "# Get July index\n",
    "july_idx = []\n",
    "for i in range(len(merra_snow_files)):\n",
    "    if os.path.basename(merra_snow_files[i])[31:33] == '07':\n",
    "        july_idx.append(i)"
   ]
  },
  {
   "cell_type": "code",
   "execution_count": 118,
   "id": "eec31df6-2453-4779-988f-3c6795eaf47c",
   "metadata": {},
   "outputs": [],
   "source": [
    "avg_snow_years = np.zeros((51,99))\n",
    "avg_evap_years = np.zeros((51,99))\n",
    "for idx in range(len(july_idx) - 1):\n",
    "    avg_snow = np.zeros((51,99))\n",
    "    avg_evap = np.zeros((51,99))\n",
    "    for month in np.arange(0,12):\n",
    "        # Read files\n",
    "        merra = xr.open_dataset(merra_snow_files[july_idx[idx] + month])\n",
    "        \n",
    "        # Stack\n",
    "        avg_snow = np.dstack((avg_snow, merra['PRECSN'][0,:,:].values))\n",
    "        avg_evap = np.dstack((avg_evap, merra['EVAP'][0,:,:].values))\n",
    "        \n",
    "        # Remove first layer\n",
    "        avg_snow = avg_snow[:,:,1:]\n",
    "        avg_evap = avg_evap[:,:,1:]\n",
    "        \n",
    "    # Produce annual average\n",
    "    avg_snow_years = np.dstack((avg_snow_years, np.nanmean(avg_snow, axis=2)))\n",
    "    avg_evap_years = np.dstack((avg_evap_years, np.nanmean(avg_evap, axis=2)))\n",
    "\n",
    "# Remove first layer\n",
    "avg_snow_years = avg_snow_years[:,:,1:]\n",
    "avg_evap_years = avg_evap_years[:,:,1:]\n",
    "\n",
    "# Compute accumulation\n",
    "avg_accum = avg_snow_years + avg_evap_years\n",
    "\n",
    "# Convert to meters per year\n",
    "avg_accum_m = avg_accum * 86400 * 365 / 1000"
   ]
  },
  {
   "cell_type": "code",
   "execution_count": null,
   "id": "30a11d90-9e63-4dd6-bf9e-11e7e8708aa9",
   "metadata": {},
   "outputs": [],
   "source": [
    "# Save to netCDF\n",
    "def save2netcdf(dest, lats, lons, data1, year):\n",
    "    dataset = netCDF4.Dataset(dest + 'merra_accumulation_J-J_1980-2021.nc', 'w', format='NETCDF4_CLASSIC')\n",
    "    print('Creating %s' %dest + 'merra_accumulation_J-J_1980-2021.nc')\n",
    "    dataset.Title = \"Annual accumulation between July and July from MERRA2 between 1980 and 2021\"\n",
    "    import time\n",
    "    dataset.History = \"Created \" + time.ctime(time.time())\n",
    "    dataset.Projection = \"WGS 84\"\n",
    "    dataset.Reference = \"Ryan, J. C., et al. (unpublished)\"\n",
    "    dataset.Contact = \"jryan4@uoregon.edu\"\n",
    "        \n",
    "    # Create new dimensions\n",
    "    lat_dim = dataset.createDimension('y', data1.shape[0])\n",
    "    lon_dim = dataset.createDimension('x', data1.shape[1])\n",
    "    data_dim = dataset.createDimension('z', data1.shape[2])\n",
    "        \n",
    "    # Define variable types\n",
    "    Y = dataset.createVariable('latitude', np.float64, ('y','x'))\n",
    "    X = dataset.createVariable('longitude', np.float64, ('y','x'))\n",
    "    \n",
    "    y = dataset.createVariable('y', np.float64, ('y'))\n",
    "    x = dataset.createVariable('x', np.float64, ('x'))\n",
    "    z = dataset.createVariable('z', np.float64, ('z'))\n",
    "        \n",
    "    # Define units\n",
    "    Y.units = \"degrees\"\n",
    "    X.units = \"degrees\"\n",
    "       \n",
    "    # Create the actual 3D variable\n",
    "    acc_nc = dataset.createVariable('acc', np.float64, ('y','x','z'))\n",
    "    acc_nc.units = \"meters per year w.e.\"\n",
    "    \n",
    "    # Write data to layers\n",
    "    Y[:] = lats\n",
    "    X[:] = lons\n",
    "    x[:] = lons[0,:]\n",
    "    y[:] = lats[:,0]\n",
    "    z[:] = year\n",
    "    acc_nc[:] = data1\n",
    "\n",
    "    print('Writing data to %s' %dest + 'merra_accumulation_J-J_1980-2021.nc')\n",
    "        \n",
    "    # Close dataset\n",
    "    dataset.close()"
   ]
  },
  {
   "cell_type": "code",
   "execution_count": null,
   "id": "197992e5-e6df-406d-b9ee-07b0fb6c7d47",
   "metadata": {},
   "outputs": [],
   "source": [
    "save2netcdf(path, merra['lat'].values, merra['lon'].values, avg_accum_m, years)"
   ]
  }
 ],
 "metadata": {
  "kernelspec": {
   "display_name": "Python 3 (ipykernel)",
   "language": "python",
   "name": "python3"
  },
  "language_info": {
   "codemirror_mode": {
    "name": "ipython",
    "version": 3
   },
   "file_extension": ".py",
   "mimetype": "text/x-python",
   "name": "python",
   "nbconvert_exporter": "python",
   "pygments_lexer": "ipython3",
   "version": "3.8.12"
  }
 },
 "nbformat": 4,
 "nbformat_minor": 5
}
