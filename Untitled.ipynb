{
 "cells": [
  {
   "cell_type": "code",
   "execution_count": 2,
   "id": "bf8f5608-6278-49eb-892c-3967d232ff1e",
   "metadata": {},
   "outputs": [],
   "source": [
    "import xarray as xr\n",
    "import numpy as np\n",
    "from pyresample.bucket import BucketResampler\n",
    "from pyresample import create_area_def"
   ]
  },
  {
   "cell_type": "code",
   "execution_count": null,
   "id": "25db5297",
   "metadata": {},
   "outputs": [],
   "source": [
    "# Define base path\n",
    "path = '/Users/jryan4/Dropbox (University of Oregon)/research/snowfall/'\n",
    "\n",
    "# Define MERRA data\n",
    "merra_file = xr.open_dataset(path + 'data/merra_sample/MERRA2_200.tavg1_2d_int_Nx.20000101.SUB.nc')\n",
    "\n",
    "# Read ISMIP data\n",
    "ismip = xr.open_dataset(path + 'data/masks/1km-ISMIP6.nc')\n",
    "\n",
    "# Meshgrid lat/lons\n",
    "merra_mesh_lon, merra_mesh_lat = np.meshgrid(merra_file['lon'], merra_file['lat'])\n",
    "\n",
    "# Create area definition\n",
    "dy = 0.5\n",
    "dx = 0.625\n",
    "target_def = create_area_def('merra2',\n",
    "                           {'proj': 'longlat', 'datum': 'WGS84'},\n",
    "                           area_extent=[merra_file['lon'].data.min()-dx/2, merra_file['lat'].data.min()-dy/2, \n",
    "                                        merra_file['lon'].data.max()+dx/2, merra_file['lat'].data.max()+dy/2],\n",
    "                           resolution=(dx, dy),\n",
    "                           units='degrees',\n",
    "                           description='Greenland 0.625 x 0.5 degree lat-lon grid')\n",
    "\n",
    "# Resample\n",
    "resampler = BucketResampler(target_def, ismip['lon'].data, ismip['lat'].data)"
   ]
  },
  {
   "cell_type": "code",
   "execution_count": null,
   "id": "70cefcb7-1d49-4f7c-be16-0adf85f0ad49",
   "metadata": {},
   "outputs": [],
   "source": [
    "print(pyresample.__version__)"
   ]
  },
  {
   "cell_type": "code",
   "execution_count": null,
   "id": "6ec22b4b-1e75-4a9d-ad36-b31695725b9f",
   "metadata": {},
   "outputs": [],
   "source": []
  }
 ],
 "metadata": {
  "kernelspec": {
   "display_name": "Python 3.9.6 ('.venv': venv)",
   "language": "python",
   "name": "python3"
  },
  "language_info": {
   "codemirror_mode": {
    "name": "ipython",
    "version": 3
   },
   "file_extension": ".py",
   "mimetype": "text/x-python",
   "name": "python",
   "nbconvert_exporter": "python",
   "pygments_lexer": "ipython3",
   "version": "3.9.6"
  },
  "vscode": {
   "interpreter": {
    "hash": "e0eb5a6df1d7c6bae117cfee1babba0e4754d93c015e52cba518523ef19a3034"
   }
  }
 },
 "nbformat": 4,
 "nbformat_minor": 5
}
