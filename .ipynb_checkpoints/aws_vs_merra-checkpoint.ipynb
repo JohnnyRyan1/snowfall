{
 "cells": [
  {
   "cell_type": "code",
   "execution_count": 381,
   "id": "caa2834e-5cce-4c95-aece-aa789f4c21f3",
   "metadata": {},
   "outputs": [],
   "source": [
    "\"\"\"\n",
    "\n",
    "1. Comparing surface height changes in AWS vs. MERRA snowfall in Spring.\n",
    "\n",
    "\"\"\"\n",
    "\n",
    "# Import libraries\n",
    "import glob\n",
    "import os\n",
    "import numpy as np\n",
    "import pandas as pd\n",
    "import xarray as xr\n",
    "import netCDF4\n",
    "import pandas as pd\n",
    "from scipy import stats\n",
    "from scipy import spatial\n",
    "import matplotlib.pyplot as plt\n",
    "from matplotlib.offsetbox import AnchoredText\n",
    "\n",
    "# Define base path\n",
    "path = '/Users/jryan4/Dropbox (University of Oregon)/research/snowfall/data/'"
   ]
  },
  {
   "cell_type": "code",
   "execution_count": 792,
   "id": "56130d31-9f6c-4a81-9764-86f5f3dc48d3",
   "metadata": {},
   "outputs": [],
   "source": [
    "stations = ['KAN_M', 'THU_L', 'TAS_L']\n",
    "\n",
    "start_month = '03'\n",
    "end_month = '04'"
   ]
  },
  {
   "cell_type": "code",
   "execution_count": 793,
   "id": "acb10899-20bf-4d34-af6d-c52de872c43e",
   "metadata": {},
   "outputs": [],
   "source": [
    "merra_sf_all = []\n",
    "aws_height_all = []\n",
    "\n",
    "for station in stations:   \n",
    "\n",
    "    # Import AWS data \n",
    "    aws = pd.read_csv(path + 'promice/' + station + '_day_v03.txt', sep='\\s+')\n",
    "\n",
    "    # Find coordinates\n",
    "    aws_coords = pd.read_csv(path + 'promice/aws_coordinates.csv')\n",
    "    idx = list(aws_coords['Name']).index(station)\n",
    "\n",
    "    # Read optimal DOY data\n",
    "    doy = pd.read_csv(path + 'optimal_doy.csv')\n",
    "    \n",
    "    aws['datetime'] = pd.to_datetime(dict(year=aws['Year'], month=aws['MonthOfYear'], day=aws['DayOfMonth']))\n",
    "    aws.set_index('datetime', inplace=True)\n",
    "    \n",
    "    # Get first year of AWS data\n",
    "    start = aws.index[0].year\n",
    "    end = aws.index[-1].year\n",
    "    \n",
    "    # Remove rows with NaNs\n",
    "    aws = aws[aws['HeightSensorBoom(m)'] != -999]\n",
    "    aws = aws[aws['TiltToEast(d)'] != -999]\n",
    "    aws = aws[aws['TiltToNorth(d)'] != -999]\n",
    "    \n",
    "    # Correct for tilt\n",
    "    east_radians = np.deg2rad(aws['TiltToEast(d)'])\n",
    "    north_radians = np.deg2rad(aws['TiltToNorth(d)'])\n",
    "\n",
    "    X = np.cos(east_radians) * np.sin(north_radians)\n",
    "    Y = np.sin(east_radians)\n",
    "    Z = np.cos(east_radians) * np.cos(north_radians)\n",
    "\n",
    "    zenith = np.arctan(np.sqrt(X**2 + Y**2) / Z)\n",
    "\n",
    "    aws['height'] = aws['HeightSensorBoom(m)'] / np.cos(zenith)\n",
    "    \n",
    "    # Get corresponding MERRA data\n",
    "    years = np.arange(start, end + 1)\n",
    "    \n",
    "    merra_files = []\n",
    "    for file in sorted(glob.glob(path + 'merra_snowfall_modern/ablation_snowfall_*.nc')):\n",
    "        if int(os.path.basename(file)[18:22]) in years:\n",
    "            merra_files.append(file)\n",
    "            \n",
    "    \n",
    "    merra_snow = []\n",
    "    for file in merra_files:\n",
    "        # Find corresponding MERRA data\n",
    "        merra = xr.open_dataset(file)\n",
    "\n",
    "        # Find nearest grid cell\n",
    "        coords = np.vstack((merra['longitude'].values, merra['latitude'].values)).T\n",
    "        pt = aws_coords['Longitude'].iloc[idx], aws_coords['Latitude'].iloc[idx]\n",
    "        distance, index = spatial.KDTree(coords).query(pt)\n",
    "\n",
    "        merra_snow.append(merra['snowfall'][:, index].values)\n",
    "        \n",
    "    merra_snow_flat = [item for sublist in merra_snow for item in sublist]\n",
    "    \n",
    "    # Put into DataFrame\n",
    "    merra_df = pd.DataFrame(list(zip(pd.date_range(start = '1/1/' + str(start), end='12/31/' + str(end)), merra_snow_flat)))\n",
    "    merra_df.columns = ['datetime', 'snowfall']\n",
    "    merra_df.set_index('datetime', inplace=True)\n",
    "    \n",
    "    # Combine DataFrames\n",
    "    df = merra_df.join(aws, how='outer')\n",
    "    \n",
    "    # Perform filter (i.e. remove if two standard deviations from mean)\n",
    "    rolling_mean = df['height'].rolling(window=11, min_periods=1, center=True).mean()\n",
    "    rolling_std = df['height'].rolling(window=11, min_periods=1, center=True).std()\n",
    "    rolling_std = rolling_std * 2\n",
    "\n",
    "    # Calculate difference between original value and rolling mean\n",
    "    difference = np.abs(df['height'] - rolling_mean)\n",
    "\n",
    "    # Mask values that are more than two standard deviations from the mean\n",
    "    mask = (difference < rolling_std)\n",
    "\n",
    "    # Calculate 11-day rolling median to be used as the timeseries\n",
    "    df['height_smooth'] = df['height'].where(mask == True).rolling(window=11, min_periods=3, center=True).median()\n",
    "\n",
    "    merra_sf = []\n",
    "    aws_height = []\n",
    "    for year in years:\n",
    "\n",
    "        date1 = str(year) + '-' + start_month + '-01'\n",
    "        date2 = str(year) + '-' + end_month + '-01'\n",
    "\n",
    "        # Check whether enough AWS data\n",
    "        if df['height'][date1:date2].sum() > 28:\n",
    "            aws_change = df['height_smooth'][date1:date2][-1] - df['height'][date1:date2][0]\n",
    "            aws_height.append(aws_change)\n",
    "            merra_snow = np.cumsum(df['snowfall'][date1:date2])[-1] - np.cumsum(df['snowfall'][date1:date2])[0]\n",
    "            merra_sf.append(merra_snow)\n",
    "        else:\n",
    "            pass\n",
    "    \n",
    "    merra_sf_all.append(merra_sf)\n",
    "    aws_height_all.append(aws_height)"
   ]
  },
  {
   "cell_type": "code",
   "execution_count": 794,
   "id": "12bcc339-0e3b-4035-bce9-836dc2e8e817",
   "metadata": {},
   "outputs": [],
   "source": [
    "a = [item for sublist in merra_sf_all for item in sublist]\n",
    "b = [item for sublist in aws_height_all for item in sublist]"
   ]
  },
  {
   "cell_type": "code",
   "execution_count": 795,
   "id": "3a8f8050-5f2f-424c-8153-68533440eaba",
   "metadata": {},
   "outputs": [
    {
     "data": {
      "text/plain": [
       "<matplotlib.collections.PathCollection at 0x7f82ece45280>"
      ]
     },
     "execution_count": 795,
     "metadata": {},
     "output_type": "execute_result"
    },
    {
     "data": {
      "image/png": "[encoded data removed]",
      "text/plain": [
       "<Figure size 432x288 with 1 Axes>"
      ]
     },
     "metadata": {
      "needs_background": "light"
     },
     "output_type": "display_data"
    }
   ],
   "source": [
    "plt.scatter(a, b)"
   ]
  },
  {
   "cell_type": "code",
   "execution_count": 775,
   "id": "1d12724b-8596-41db-9b71-866f1078864c",
   "metadata": {},
   "outputs": [
    {
     "data": {
      "text/plain": [
       "[<matplotlib.lines.Line2D at 0x7f82da723fa0>]"
      ]
     },
     "execution_count": 775,
     "metadata": {},
     "output_type": "execute_result"
    },
    {
     "data": {
      "image/png": "[encoded data removed]",
      "text/plain": [
       "<Figure size 720x432 with 2 Axes>"
      ]
     },
     "metadata": {
      "needs_background": "light"
     },
     "output_type": "display_data"
    }
   ],
   "source": [
    "fig, (ax1) = plt.subplots(nrows=1, ncols=1, figsize=(10, 6), layout='constrained')\n",
    "ax1.plot(df['height_smooth'][date1:date2])\n",
    "ax2 = ax1.twinx()\n",
    "ax2.plot(np.cumsum(df['snowfall'][date1:date2] * -1), color='orange')"
   ]
  },
  {
   "cell_type": "code",
   "execution_count": 782,
   "id": "c8279783-bd44-4205-9e85-04cf08586914",
   "metadata": {},
   "outputs": [],
   "source": []
  },
  {
   "cell_type": "code",
   "execution_count": 783,
   "id": "f4609b00-883b-4dd1-8334-2ebe812d7558",
   "metadata": {},
   "outputs": [
    {
     "data": {
      "text/plain": [
       "<matplotlib.collections.PathCollection at 0x7f830c49dca0>"
      ]
     },
     "execution_count": 783,
     "metadata": {},
     "output_type": "execute_result"
    },
    {
     "data": {
      "image/png": "[encoded data removed]",
      "text/plain": [
       "<Figure size 432x288 with 1 Axes>"
      ]
     },
     "metadata": {
      "needs_background": "light"
     },
     "output_type": "display_data"
    }
   ],
   "source": []
  },
  {
   "cell_type": "code",
   "execution_count": null,
   "id": "45db3a4c-1a4f-4169-93d2-4bda778f9525",
   "metadata": {},
   "outputs": [],
   "source": []
  }
 ],
 "metadata": {
  "kernelspec": {
   "display_name": "Python 3 (ipykernel)",
   "language": "python",
   "name": "python3"
  },
  "language_info": {
   "codemirror_mode": {
    "name": "ipython",
    "version": 3
   },
   "file_extension": ".py",
   "mimetype": "text/x-python",
   "name": "python",
   "nbconvert_exporter": "python",
   "pygments_lexer": "ipython3",
   "version": "3.8.12"
  }
 },
 "nbformat": 4,
 "nbformat_minor": 5
}
