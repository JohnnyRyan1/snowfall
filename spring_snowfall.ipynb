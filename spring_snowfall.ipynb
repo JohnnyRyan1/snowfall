{
 "cells": [
  {
   "cell_type": "code",
   "execution_count": 51,
   "id": "7285ee14-f172-47a9-a3bb-6f3ab76f170b",
   "metadata": {},
   "outputs": [],
   "source": [
    "\"\"\"\n",
    "\n",
    "1. Multiple linear regression between timing of glacier ice exposure and 1) snowfall and 2) air temperature. \n",
    "\n",
    "\"\"\"\n",
    "\n",
    "# Import libraries\n",
    "import glob\n",
    "import os\n",
    "import numpy as np\n",
    "import xarray as xr\n",
    "import netCDF4\n",
    "import pandas as pd\n",
    "from scipy import stats\n",
    "from sklearn import linear_model\n",
    "from sklearn.metrics import explained_variance_score, r2_score\n",
    "import statsmodels.api as sm\n",
    "import matplotlib.pyplot as plt\n",
    "from matplotlib.offsetbox import AnchoredText\n",
    "\n",
    "# Define base path\n",
    "path = '/Users/jryan4/Dropbox (University of Oregon)/research/snowfall/data/'"
   ]
  },
  {
   "cell_type": "code",
   "execution_count": 52,
   "id": "19353bd0-8a70-48eb-8dfc-8e21db14a686",
   "metadata": {},
   "outputs": [],
   "source": [
    "# Read data\n",
    "index_data = xr.open_dataset(path + 'masks/index_main.nc', engine='netcdf4')\n",
    "\n",
    "# Define maximum snowline\n",
    "snowline_file = netCDF4.Dataset(path + 'masks/monthly_bare_ice_2012.nc')\n",
    "snowline = snowline_file.variables['bare_ice'][1, :, :].filled(np.nan)\n",
    "max_snowline = (snowline > 0.1)\n",
    "\n",
    "# Define indices\n",
    "index = list(zip(index_data['index_x'].values, index_data['index_y'].values))\n",
    "\n",
    "# Define MERRA and exposure files\n",
    "merra_snow_files = sorted(glob.glob(path + 'merra_snowfall_modern/*.nc'))\n",
    "merra_temp_files = sorted(glob.glob(path + 'merra_t2m_modern/*.nc'))\n",
    "expo_files = sorted(glob.glob(path + 'firn-ice-exposure-dates/*.nc'))\n",
    "\n",
    "# Define regions\n",
    "regions = np.arange(1, 9)\n",
    "\n",
    "# Define number of files\n",
    "number = 18"
   ]
  },
  {
   "cell_type": "code",
   "execution_count": 53,
   "id": "e903ec76-c9cd-44de-8798-b15a0ab5fcc9",
   "metadata": {},
   "outputs": [
    {
     "data": {
      "text/html": [
       "<div>\n",
       "<style scoped>\n",
       "    .dataframe tbody tr th:only-of-type {\n",
       "        vertical-align: middle;\n",
       "    }\n",
       "\n",
       "    .dataframe tbody tr th {\n",
       "        vertical-align: top;\n",
       "    }\n",
       "\n",
       "    .dataframe thead th {\n",
       "        text-align: right;\n",
       "    }\n",
       "</style>\n",
       "<table border=\"1\" class=\"dataframe\">\n",
       "  <thead>\n",
       "    <tr style=\"text-align: right;\">\n",
       "      <th></th>\n",
       "      <th>Unnamed: 0</th>\n",
       "      <th>N</th>\n",
       "      <th>NE</th>\n",
       "      <th>E</th>\n",
       "      <th>SE</th>\n",
       "      <th>S</th>\n",
       "      <th>SW</th>\n",
       "      <th>W</th>\n",
       "      <th>NW</th>\n",
       "    </tr>\n",
       "  </thead>\n",
       "  <tbody>\n",
       "    <tr>\n",
       "      <th>0</th>\n",
       "      <td>t_doy</td>\n",
       "      <td>157</td>\n",
       "      <td>168</td>\n",
       "      <td>159</td>\n",
       "      <td>152</td>\n",
       "      <td>155</td>\n",
       "      <td>170</td>\n",
       "      <td>175</td>\n",
       "      <td>170</td>\n",
       "    </tr>\n",
       "    <tr>\n",
       "      <th>1</th>\n",
       "      <td>s_doy</td>\n",
       "      <td>128</td>\n",
       "      <td>153</td>\n",
       "      <td>112</td>\n",
       "      <td>92</td>\n",
       "      <td>92</td>\n",
       "      <td>151</td>\n",
       "      <td>172</td>\n",
       "      <td>130</td>\n",
       "    </tr>\n",
       "  </tbody>\n",
       "</table>\n",
       "</div>"
      ],
      "text/plain": [
       "  Unnamed: 0    N   NE    E   SE    S   SW    W   NW\n",
       "0      t_doy  157  168  159  152  155  170  175  170\n",
       "1      s_doy  128  153  112   92   92  151  172  130"
      ]
     },
     "execution_count": 53,
     "metadata": {},
     "output_type": "execute_result"
    }
   ],
   "source": [
    "# Read optimal DOY data\n",
    "doy = pd.read_csv(path + 'optimal_doy.csv')\n",
    "doy"
   ]
  },
  {
   "cell_type": "code",
   "execution_count": 54,
   "id": "cc00c3b0-9951-4b87-b10b-bb32f1750e4d",
   "metadata": {},
   "outputs": [],
   "source": [
    "mean_exposure = []\n",
    "mean_snowfall = []\n",
    "mean_temp = []\n",
    "\n",
    "for region in regions:\n",
    "    \n",
    "    # Define optimal date range\n",
    "    t_start = doy.iloc[:,region][0]\n",
    "    s_start = doy.iloc[:,region][1]\n",
    "    \n",
    "    region_exposure = []\n",
    "    region_snowfall = []\n",
    "    region_temp = []\n",
    "    for i in range(number):\n",
    "        \n",
    "        # Import data\n",
    "        snow = xr.open_dataset(merra_snow_files[i])\n",
    "        temp = xr.open_dataset(merra_temp_files[i])\n",
    "        expo = xr.open_dataset(expo_files[i])\n",
    "\n",
    "        # Mask ablation zone\n",
    "        abl_expo = expo['first_55'].values[max_snowline].astype(float)\n",
    "        abl_expo[abl_expo == 0] = np.nan\n",
    "        abl_expo[abl_expo < 151] = np.nan\n",
    "\n",
    "        region_mask = index_data['region'].values == region\n",
    "        region_snowfall.append(np.nanmean(np.mean(snow['snowfall'][s_start:183, :], axis=0)[region_mask]) * 86400 * 365 / 1000)\n",
    "        region_temp.append(np.nanmean(np.mean(temp['t2m'][t_start:183, :], axis=0)[region_mask]))\n",
    "        region_exposure.append(np.nanmedian(abl_expo[region_mask]))\n",
    "        \n",
    "    mean_exposure.append(region_exposure)\n",
    "    mean_snowfall.append(region_snowfall)\n",
    "    mean_temp.append(region_temp)"
   ]
  },
  {
   "cell_type": "code",
   "execution_count": 55,
   "id": "2eb36b88-e95a-4d82-bb30-a1edab7ed8c4",
   "metadata": {},
   "outputs": [],
   "source": [
    "df_snowfall = pd.DataFrame(np.array(mean_snowfall).T, columns=['N', 'NE', 'E', 'SE', 'S', 'SW', 'W', 'NW'])\n",
    "df_temp = pd.DataFrame(np.array(mean_temp).T, columns=['N', 'NE', 'E', 'SE', 'S', 'SW', 'W', 'NW'])\n",
    "df_exposure = pd.DataFrame(np.array(mean_exposure).T, columns=['N', 'NE', 'E', 'SE', 'S', 'SW', 'W', 'NW'])\n",
    "\n",
    "df_temp['year'] = np.arange(2000, 2018)\n",
    "df_snowfall['year'] = np.arange(2000, 2018)\n",
    "df_exposure['year'] = np.arange(2000, 2018)"
   ]
  },
  {
   "cell_type": "code",
   "execution_count": 119,
   "id": "f4375a09-6c08-4888-9be3-970531a399c9",
   "metadata": {},
   "outputs": [
    {
     "data": {
      "image/png": "[encoded data removed]",
      "text/plain": [
       "<Figure size 720x288 with 2 Axes>"
      ]
     },
     "metadata": {
      "needs_background": "light"
     },
     "output_type": "display_data"
    }
   ],
   "source": [
    "reg = 'NW'\n",
    "reg_name = 'NorthWest'\n",
    "\n",
    "s1, i1, r1, p1, e1 = stats.linregress(df_temp[reg],df_exposure[reg])\n",
    "s2, i2, r2, p2, e2 = stats.linregress(df_snowfall[reg],df_exposure[reg])\n",
    "\n",
    "# Compute adjusted R2\n",
    "r2_adj1 = 1 - (1 - r1**2) * (df_temp[reg].shape[0] - 1) / (y.shape[0] - df[['temp']].shape[1] - 1)\n",
    "r2_adj2 = 1 - (1 - r2**2) * (df_temp[reg].shape[0] - 1) / (y.shape[0] - df[['temp']].shape[1] - 1)\n",
    "\n",
    "fig, (ax1, ax2) = plt.subplots(nrows=1, ncols=2, figsize=(10, 4), sharey=True, layout='constrained')\n",
    "fig.suptitle(reg_name, fontsize=16)\n",
    "ax1.scatter(df_temp[reg], df_exposure[reg])\n",
    "ax1.set_xlabel('Air temperature (K)', fontsize=14)\n",
    "ax1.set_ylabel('Glacier ice exposure (DOY)', fontsize=14)\n",
    "\n",
    "textstr = f'R$^2$ = {r2_adj1:.2f}'\n",
    "text_box = AnchoredText(textstr, frameon=True, loc=3, pad=0.5, prop=dict(size=14))\n",
    "text_box.patch.set_boxstyle(\"round,pad=0.,rounding_size=0.2\")\n",
    "plt.setp(text_box.patch, facecolor='white', alpha=0.7)\n",
    "ax1.add_artist(text_box)\n",
    "for i, label in enumerate(list(df_temp['year'])):\n",
    "    ax1.annotate(label, (df_temp[reg][i], df_exposure[reg][i]))\n",
    "\n",
    "ax2.scatter(df_snowfall[reg], df_exposure[reg])\n",
    "ax2.set_xlabel('Snowfall (m a$^{-1}$)', fontsize=14)\n",
    "\n",
    "textstr = f'R$^2$ = {r2_adj2:.2f}'\n",
    "text_box = AnchoredText(textstr, frameon=True, loc=4, pad=0.5, prop=dict(size=14))\n",
    "text_box.patch.set_boxstyle(\"round,pad=0.,rounding_size=0.2\")\n",
    "plt.setp(text_box.patch, facecolor='white', alpha=0.7)\n",
    "ax2.add_artist(text_box)\n",
    "for i, label in enumerate(list(df_temp['year'])):\n",
    "    ax2.annotate(label, (df_snowfall[reg][i], df_exposure[reg][i]))\n",
    "\n",
    "for ax in [ax1, ax2]:\n",
    "    ax.grid(ls='dashed', lw=1)\n",
    "    ax.tick_params(axis='both', which='major', labelsize=14)"
   ]
  },
  {
   "cell_type": "code",
   "execution_count": 120,
   "id": "dcd70c92-867c-464b-8560-7a63b4568139",
   "metadata": {},
   "outputs": [
    {
     "data": {
      "text/plain": [
       "LinearRegression()"
      ]
     },
     "execution_count": 120,
     "metadata": {},
     "output_type": "execute_result"
    }
   ],
   "source": [
    "# Perform multiple linear regression\n",
    "df = pd.concat([df_snowfall[reg], df_temp[reg]], axis=1)\n",
    "df.columns = ['snow','temp']\n",
    "\n",
    "X = df[['snow', 'temp']]\n",
    "y = df_exposure[reg]\n",
    "\n",
    "model = linear_model.LinearRegression()\n",
    "model.fit(X, y)"
   ]
  },
  {
   "cell_type": "code",
   "execution_count": 121,
   "id": "4335eaa1-51b7-4980-ac9f-785dbda676f4",
   "metadata": {},
   "outputs": [],
   "source": [
    "# Compute adjusted R2\n",
    "yhat = model.predict(X)\n",
    "r2 = r2_score(y, yhat)\n",
    "adj_r2 = 1 - (1 - r2) * (y.shape[0] - 1) / (y.shape[0] - df[['snow', 'temp']].shape[1] - 1)"
   ]
  },
  {
   "cell_type": "code",
   "execution_count": 122,
   "id": "9114a374-bffe-4a2e-b624-a866012cc953",
   "metadata": {},
   "outputs": [
    {
     "name": "stdout",
     "output_type": "stream",
     "text": [
      "snow    0.296637\n",
      "temp   -6.144950\n",
      "dtype: float64\n"
     ]
    }
   ],
   "source": [
    "# Compare coefficients scaled by standard deviation\n",
    "# https://scikit-learn.org/stable/auto_examples/inspection/plot_linear_model_coefficient_interpretation.html\n",
    "print(model.coef_ * X.std())"
   ]
  },
  {
   "cell_type": "code",
   "execution_count": 123,
   "id": "1d09d403-4f41-49ae-85f3-3bd340f2bcbd",
   "metadata": {},
   "outputs": [
    {
     "data": {
      "image/png": "[encoded data removed]",
      "text/plain": [
       "<Figure size 432x360 with 1 Axes>"
      ]
     },
     "metadata": {
      "needs_background": "light"
     },
     "output_type": "display_data"
    }
   ],
   "source": [
    "fig, ax1 = plt.subplots(figsize=(6, 5), layout='constrained')\n",
    "\n",
    "ax1.scatter(y, yhat, s=100, edgecolor='k', zorder=2)\n",
    "ax1.set_xlabel('Observed', fontsize=14)\n",
    "ax1.set_ylabel('Predicted', fontsize=14)\n",
    "\n",
    "textstr = f'R$^2$ = {adj_r2:.2f}'\n",
    "text_box = AnchoredText(textstr, frameon=True, loc=4, pad=0.5, prop=dict(size=14))\n",
    "text_box.patch.set_boxstyle(\"round,pad=0.,rounding_size=0.2\")\n",
    "plt.setp(text_box.patch, facecolor='white', alpha=0.7)\n",
    "ax1.add_artist(text_box)\n",
    "\n",
    "ax1.grid(ls='dashed', lw=1, zorder=1)\n",
    "ax1.tick_params(axis='both', which='major', labelsize=14)"
   ]
  },
  {
   "cell_type": "code",
   "execution_count": 124,
   "id": "4e93f1cd-7331-45eb-a8f6-4268d1f614a4",
   "metadata": {},
   "outputs": [],
   "source": [
    "# Repeat using statsmodels\n",
    "X = sm.add_constant(X)\n",
    "results = sm.OLS(y, X).fit()"
   ]
  },
  {
   "cell_type": "code",
   "execution_count": 125,
   "id": "ab2cdf26-3be9-4c39-b110-25c3188a1520",
   "metadata": {},
   "outputs": [],
   "source": [
    "def results_summary_to_df(results):\n",
    "\n",
    "    pvals = results.pvalues\n",
    "    coeff = results.params\n",
    "    r2 = results.rsquared_adj\n",
    "\n",
    "    results_df = pd.DataFrame({\"pvals\":pvals,\n",
    "                               \"coeff\":coeff,\n",
    "                               \"r2_adj_both\":r2,\n",
    "                               \"r2_temp\":r2_adj1,\n",
    "                               \"r2_snow\":r2_adj2,\n",
    "                                })\n",
    "\n",
    "    results_df = results_df[[\"coeff\", \"pvals\", \"r2_adj_both\", \"r2_temp\", \"r2_snow\"]]\n",
    "    return results_df"
   ]
  },
  {
   "cell_type": "code",
   "execution_count": 126,
   "id": "e94e1b51-3c45-48cf-afec-bc7a195aad73",
   "metadata": {},
   "outputs": [
    {
     "data": {
      "text/html": [
       "<div>\n",
       "<style scoped>\n",
       "    .dataframe tbody tr th:only-of-type {\n",
       "        vertical-align: middle;\n",
       "    }\n",
       "\n",
       "    .dataframe tbody tr th {\n",
       "        vertical-align: top;\n",
       "    }\n",
       "\n",
       "    .dataframe thead th {\n",
       "        text-align: right;\n",
       "    }\n",
       "</style>\n",
       "<table border=\"1\" class=\"dataframe\">\n",
       "  <thead>\n",
       "    <tr style=\"text-align: right;\">\n",
       "      <th></th>\n",
       "      <th>coeff</th>\n",
       "      <th>pvals</th>\n",
       "      <th>r2_adj_both</th>\n",
       "      <th>r2_temp</th>\n",
       "      <th>r2_snow</th>\n",
       "    </tr>\n",
       "  </thead>\n",
       "  <tbody>\n",
       "    <tr>\n",
       "      <th>const</th>\n",
       "      <td>1532.998959</td>\n",
       "      <td>0.000609</td>\n",
       "      <td>0.504213</td>\n",
       "      <td>0.534145</td>\n",
       "      <td>0.082661</td>\n",
       "    </tr>\n",
       "    <tr>\n",
       "      <th>snow</th>\n",
       "      <td>1.959012</td>\n",
       "      <td>0.856109</td>\n",
       "      <td>0.504213</td>\n",
       "      <td>0.534145</td>\n",
       "      <td>0.082661</td>\n",
       "    </tr>\n",
       "    <tr>\n",
       "      <th>temp</th>\n",
       "      <td>-4.925512</td>\n",
       "      <td>0.001668</td>\n",
       "      <td>0.504213</td>\n",
       "      <td>0.534145</td>\n",
       "      <td>0.082661</td>\n",
       "    </tr>\n",
       "  </tbody>\n",
       "</table>\n",
       "</div>"
      ],
      "text/plain": [
       "             coeff     pvals  r2_adj_both   r2_temp   r2_snow\n",
       "const  1532.998959  0.000609     0.504213  0.534145  0.082661\n",
       "snow      1.959012  0.856109     0.504213  0.534145  0.082661\n",
       "temp     -4.925512  0.001668     0.504213  0.534145  0.082661"
      ]
     },
     "execution_count": 126,
     "metadata": {},
     "output_type": "execute_result"
    }
   ],
   "source": [
    "results_summary_to_df(results)"
   ]
  },
  {
   "cell_type": "code",
   "execution_count": null,
   "id": "c5b0c414-16d1-4cd9-a760-e18e062bcf1b",
   "metadata": {},
   "outputs": [],
   "source": []
  }
 ],
 "metadata": {
  "kernelspec": {
   "display_name": "Python 3 (ipykernel)",
   "language": "python",
   "name": "python3"
  },
  "language_info": {
   "codemirror_mode": {
    "name": "ipython",
    "version": 3
   },
   "file_extension": ".py",
   "mimetype": "text/x-python",
   "name": "python",
   "nbconvert_exporter": "python",
   "pygments_lexer": "ipython3",
   "version": "3.8.12"
  }
 },
 "nbformat": 4,
 "nbformat_minor": 5
}
