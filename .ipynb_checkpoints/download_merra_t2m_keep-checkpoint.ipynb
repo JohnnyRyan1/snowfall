{
 "cells": [
  {
   "cell_type": "code",
   "execution_count": null,
   "id": "8950e9c4-396b-4191-8007-dc95b33615d5",
   "metadata": {},
   "outputs": [],
   "source": [
    "\"\"\"\n",
    "\n",
    "1. Download MERRA2 data at daily interval\n",
    "\n",
    "2. Compute mean air temperature in June (day of year 152 - 183)\n",
    "\n",
    "3. Save as NetCDF4\n",
    "    - Temperature \n",
    "\n",
    "\"\"\"\n",
    "\n",
    "# Import libraries\n",
    "import glob\n",
    "import os\n",
    "from datetime import datetime\n",
    "import numpy as np\n",
    "import xarray as xr\n",
    "import pandas as pd\n",
    "import netCDF4\n",
    "import pyresample\n",
    "from pyproj import Transformer\n",
    "import matplotlib.pyplot as plt\n",
    "\n",
    "# Define base path\n",
    "path = '/Users/jryan4/Dropbox (University of Oregon)/research/snowfall/'\n",
    "\n",
    "# Define path to links\n",
    "links = pd.read_csv(path + 'data/links/subset_M2T1NXSLV_5.12.4_20000101_20220430_Daily_T2M_Greenland.txt', sep='\\t', header=None)\n",
    "links.rename(columns={0: \"link\"}, inplace=True)\n",
    "links['year'] = links['link'].str[119:123]\n",
    "links['month'] = links['link'].str[162:164].astype(int)\n",
    "\n",
    "# Define years\n",
    "years = np.arange(2000, 2022)\n",
    "\n",
    "# Filter June\n",
    "links_june = links[links['month'] == 6]"
   ]
  },
  {
   "cell_type": "code",
   "execution_count": null,
   "id": "346b8a41-bc89-4c1d-b57f-c6b231e0eb38",
   "metadata": {},
   "outputs": [],
   "source": [
    "# Read ISMIP data\n",
    "ismip = xr.open_dataset(path + 'data/masks/1km-ISMIP6.nc')\n",
    "\n",
    "# Define maximum snowline\n",
    "snowline_file = netCDF4.Dataset(path + 'data/masks/monthly_bare_ice_2012.nc')\n",
    "snowline = snowline_file.variables['bare_ice'][1, :, :].filled(np.nan)\n",
    "max_snowline = (snowline > 0.1)\n",
    "\n",
    "# Define regions\n",
    "regions = netCDF4.Dataset('/Users/jryan4/Dropbox (University of Oregon)/research/clouds/data/temp_albedo_summer_climatologies.nc')\n",
    "\n",
    "# Define ablation zone coordinates, elevations, and regions\n",
    "abl_lon = ismip['lon'].values[max_snowline]\n",
    "abl_lat = ismip['lat'].values[max_snowline]\n",
    "abl_ele = ismip['SRF'].values[max_snowline]\n",
    "abl_reg = regions.variables['regions'][:].filled()[max_snowline]\n",
    "\n",
    "# Indices of ablation zone\n",
    "idx, idy = np.where(max_snowline)\n",
    "\n",
    "# Define MERRA data\n",
    "merra_file = xr.open_dataset(path + 'data/merra_sample/MERRA2_200.tavg1_2d_int_Nx.20000101.SUB.nc')\n",
    "\n",
    "# Meshgrid lat/lons\n",
    "merra_mesh_lon, merra_mesh_lat = np.meshgrid(merra_file['lon'], merra_file['lat'])\n",
    "\n",
    "# Define grid definitions for resampling to ISMIP grid\n",
    "orig_def_regions = pyresample.geometry.GridDefinition(lons=merra_mesh_lon, lats=merra_mesh_lat)\n",
    "targ_def = pyresample.geometry.GridDefinition(lons=ismip['lon'], lats=ismip['lat'])"
   ]
  },
  {
   "cell_type": "code",
   "execution_count": null,
   "id": "5ecde3ed-968a-4d34-b8cd-d3978e1819ee",
   "metadata": {},
   "outputs": [],
   "source": [
    "%%capture\n",
    "# Loop over every link and append a 1D array of ablation zone temperature + time\n",
    "for year in years:\n",
    "    \n",
    "    if os.path.exists(path + 'data/merra_t2m_june/t2m_' + str(year) + '.nc'):\n",
    "        print(f'Skipping...{str(year)}')\n",
    "    else:\n",
    "        print(f'Processing...{str(year)}')\n",
    "        # Make a new DataFrame\n",
    "        link_year = links_june[links_june['year'] == str(year)]\n",
    "\n",
    "        t = []\n",
    "        t2m = []\n",
    "        for j in range(len(link_year)):\n",
    "\n",
    "            # Index link\n",
    "            link = '\"' + str(link_year.iloc[j].values[0]) + '\"'\n",
    "\n",
    "            # Download MERRA2 using WGET\n",
    "            !wget --load-cookies ~/.urs_cookies --save-cookies ~/.urs_cookies --auth-no-challenge=on --keep-session-cookies --no-check-certificate --content-disposition $link --directory-prefix=tmp_t -nd\n",
    "\n",
    "            # Import temporary file\n",
    "            merra = xr.open_dataset(sorted(glob.glob(path + 'repo/tmp_t/*.nc'))[0])\n",
    "            \n",
    "            # Clean up temporary files\n",
    "            files = glob.glob(path + 'repo/tmp_t/*.nc')\n",
    "            for f in files:\n",
    "                os.remove(f)\n",
    "\n",
    "            # Determine nearest (w.r.t. great circle distance) neighbour in the grid.\n",
    "            t2m_resample = pyresample.kd_tree.resample_nearest(source_geo_def=orig_def_regions, \n",
    "                                                         target_geo_def=targ_def, \n",
    "                                                         data=np.mean(merra['T2M'].values, axis=0), \n",
    "                                                         radius_of_influence=50000)\n",
    "\n",
    "            # Append to list\n",
    "            t2m.append(t2m_resample[max_snowline])\n",
    "            t.append(merra['time'].values[0])\n",
    "\n",
    "        # Save as NetCDF\n",
    "        ds_data = xr.Dataset(\n",
    "        data_vars={\n",
    "            \"t2m\": ((\"time\", \"x\"), np.array(t2m).astype('float32')),\n",
    "        },\n",
    "\n",
    "        coords={\n",
    "            \"time\": pd.DatetimeIndex(t, freq='D'),\n",
    "            \"longitude\": (('x',), np.array(abl_lon)),\n",
    "            \"latitude\": (('x',), np.array(abl_lat)),    \n",
    "        },\n",
    "\n",
    "        attrs={\n",
    "            \"Produced\": datetime.now().strftime(\"%Y-%m-%d %H:%M:%S\"),\n",
    "            \"Units\": 'K',\n",
    "            \"Author\":'Johnny Ryan', \n",
    "            \"Email\":'jryan4@uoregon.edu'\n",
    "        },\n",
    "        )\n",
    "\n",
    "        # Save\n",
    "        ds_data.to_netcdf(path + 'data/merra_t2m_june/t2m_' + str(year) + '.nc')\n",
    "        "
   ]
  },
  {
   "cell_type": "code",
   "execution_count": null,
   "id": "eaed6cf8-4c39-4ef9-a8b4-b0d0e0abf54b",
   "metadata": {},
   "outputs": [],
   "source": [
    "years"
   ]
  },
  {
   "cell_type": "code",
   "execution_count": null,
   "id": "f457f711-b677-4a0a-858a-6548b25df0f2",
   "metadata": {},
   "outputs": [],
   "source": [
    "year=2020\n",
    "j=0\n",
    "link_year = links_june[links_june['year'] == str(year)]\n"
   ]
  },
  {
   "cell_type": "code",
   "execution_count": null,
   "id": "57b19ca2-e87b-4c9b-8841-f60c0a179630",
   "metadata": {},
   "outputs": [],
   "source": [
    "link = '\"' + str(link_year.iloc[j].values[0]) + '\"'"
   ]
  },
  {
   "cell_type": "code",
   "execution_count": null,
   "id": "54f4d88e-10c2-4412-ad39-d48cc7bb8c9c",
   "metadata": {},
   "outputs": [],
   "source": [
    "!wget --load-cookies ~/.urs_cookies --save-cookies ~/.urs_cookies --auth-no-challenge=on --keep-session-cookies --no-check-certificate --content-disposition $link --directory-prefix=tmp_t -nd"
   ]
  },
  {
   "cell_type": "code",
   "execution_count": null,
   "id": "647a5e16-1e96-4675-84f1-fb55dc1f1897",
   "metadata": {},
   "outputs": [],
   "source": [
    "merra = xr.open_dataset(sorted(glob.glob(path + 'repo/tmp_t/*.nc'))[0])"
   ]
  },
  {
   "cell_type": "code",
   "execution_count": null,
   "id": "724b1abe-360a-446c-b9d6-c36f9f0599a7",
   "metadata": {},
   "outputs": [],
   "source": [
    "# Define grid definitions for resampling to ISMIP grid\n",
    "orig_def_regions = pyresample.geometry.GridDefinition(lons=ismip['lon'], lats=ismip['lat'])\n",
    "targ_def = pyresample.geometry.GridDefinition(lons=merra_mesh_lon, lats=merra_mesh_lat)\n",
    "\n",
    "# Determine nearest (w.r.t. great circle distance) neighbour in the grid.\n",
    "snowline_resample = pyresample.kd_tree.resample_nearest(source_geo_def=orig_def_regions, \n",
    "                                             target_geo_def=targ_def, \n",
    "                                             data=max_snowline, \n",
    "                                             radius_of_influence=50000)"
   ]
  },
  {
   "cell_type": "code",
   "execution_count": null,
   "id": "132df4d2-afd0-4e40-bcd4-b0a39a5fb993",
   "metadata": {},
   "outputs": [],
   "source": [
    "plt.imshow(snowline_resample)"
   ]
  },
  {
   "cell_type": "code",
   "execution_count": null,
   "id": "410e4495-8fe3-4045-a8ad-81a359f7e5e8",
   "metadata": {},
   "outputs": [],
   "source": [
    "t2m_mean = np.mean(merra['T2M'].values, axis=0)\n",
    "t2m_std = np.std(merra['T2M'].values, axis=0)\n",
    "\n",
    "t2m_mean[~snowline_resample] = 0\n",
    "t2m_std[~snowline_resample] = 0"
   ]
  },
  {
   "cell_type": "code",
   "execution_count": null,
   "id": "773c1f5a-2c41-46fa-a18c-1c2d6e38517b",
   "metadata": {},
   "outputs": [],
   "source": [
    "# Define grid definitions for resampling to ISMIP grid\n",
    "orig_def_regions = pyresample.geometry.GridDefinition(lons=merra_mesh_lon, lats=merra_mesh_lat)\n",
    "targ_def = pyresample.geometry.GridDefinition(lons=ismip['lon'], lats=ismip['lat'])\n",
    "\n",
    "# Determine nearest (w.r.t. great circle distance) neighbour in the grid.\n",
    "clusters_resample = pyresample.kd_tree.resample_nearest(source_geo_def=orig_def_regions, \n",
    "                                             target_geo_def=targ_def, \n",
    "                                             data=clustering.reshape(t2m_mean.shape), \n",
    "                                             radius_of_influence=50000)"
   ]
  },
  {
   "cell_type": "code",
   "execution_count": null,
   "id": "0862e786-4d25-473b-9f77-71d7a0120e46",
   "metadata": {},
   "outputs": [],
   "source": [
    "plt.figure(figsize=(15,15))\n",
    "cmap = plt.cm.get_cmap('tab20', 100)\n",
    "plt.imshow(clustering.reshape(t2m_mean.shape), cmap=cmap)"
   ]
  },
  {
   "cell_type": "code",
   "execution_count": null,
   "id": "a853b625-e7b8-46ec-b198-79b71f1297d2",
   "metadata": {},
   "outputs": [],
   "source": [
    "plt.figure(figsize=(15,15))\n",
    "plt.imshow(max_snowline)"
   ]
  },
  {
   "cell_type": "code",
   "execution_count": null,
   "id": "f475b1f9-4d6e-4fb6-8116-403e4bee3894",
   "metadata": {},
   "outputs": [],
   "source": [
    "from pyresample.bucket import BucketResampler\n",
    "\n",
    "# Define grid definitions for resampling to ISMIP grid\n",
    "orig_def_regions = pyresample.geometry.GridDefinition(lons=ismip['lon'], lats=ismip['lat'])\n",
    "targ_def = pyresample.geometry.GridDefinition(lons=merra_mesh_lon, lats=merra_mesh_lat)\n",
    "\n",
    "# Determine nearest (w.r.t. great circle distance) neighbour in the grid\n",
    "resampler = BucketResampler(targ_def, ismip['lon'], ismip['lat'])\n",
    "snowline_resample = resampler.get_average(max_snowline)"
   ]
  },
  {
   "cell_type": "code",
   "execution_count": null,
   "id": "c384c90b-e017-4ee2-8608-61276cac5839",
   "metadata": {},
   "outputs": [],
   "source": [
    "targ_def"
   ]
  },
  {
   "cell_type": "code",
   "execution_count": null,
   "id": "82175423-5a5d-438f-9a13-15aec2f903f5",
   "metadata": {},
   "outputs": [],
   "source": [
    "merra"
   ]
  },
  {
   "cell_type": "code",
   "execution_count": null,
   "id": "56cdaed0-2a7e-4a0c-80de-33b2f267e629",
   "metadata": {},
   "outputs": [],
   "source": [
    "pyresample.geometry.get_projection_coordinates_from_lonlat(merra_mesh_lon, merra_mesh_lat)"
   ]
  },
  {
   "cell_type": "code",
   "execution_count": null,
   "id": "38993847-50a5-4e51-adae-17959ebabac6",
   "metadata": {},
   "outputs": [],
   "source": [
    "merra_mesh_lon.min(), merra_mesh_lon.max()"
   ]
  },
  {
   "cell_type": "code",
   "execution_count": null,
   "id": "581f52bb-0278-4c9a-b1d3-d162c78d9901",
   "metadata": {},
   "outputs": [],
   "source": []
  },
  {
   "cell_type": "code",
   "execution_count": null,
   "id": "eee49d0d-1bb6-441c-826f-4201d67eb2e1",
   "metadata": {},
   "outputs": [],
   "source": [
    "from pyresample import create_area_def"
   ]
  },
  {
   "cell_type": "code",
   "execution_count": null,
   "id": "0bc75808-8e6f-4e4d-ab2c-e95627ca826e",
   "metadata": {},
   "outputs": [],
   "source": [
    "dy = 0.5\n",
    "dx = 0.625\n",
    "target_def = create_area_def('merra2',\n",
    "                           {'proj': 'longlat', 'datum': 'WGS84'},\n",
    "                           area_extent=[merra_mesh_lon.min()-dx/2, merra_mesh_lat.min()-dy/2, merra_mesh_lon.max()+dx/2, merra_mesh_lat.max()+dy/2],\n",
    "                           resolution=(dx, dy),\n",
    "                           units='degrees',\n",
    "                           description='Greenland 0.625 x 0.5 degree lat-lon grid')"
   ]
  },
  {
   "cell_type": "code",
   "execution_count": 160,
   "id": "1d721b48-cf19-4361-8be2-53ce07745665",
   "metadata": {},
   "outputs": [],
   "source": [
    "area_id = 'ismip'\n",
    "proj_string = '+proj=stere +lat_0=90 +lat_ts=70 +lon_0=-45 +x_0=0 +y_0=0 +datum=WGS84 +units=m +no_defs +type=crs'\n",
    "area_extent = (ismip['x'].data.min(), ismip['y'].data.min(), ismip['x'].data.max(), ismip['y'].data.max())\n",
    "shape = (ismip['lon'].shape)\n",
    "\n",
    "source_def = pyresample.AreaDefinition.from_extent(area_id, proj_string, shape, area_extent)"
   ]
  },
  {
   "cell_type": "code",
   "execution_count": null,
   "id": "8b135d4e-771f-479a-9f61-467204b95416",
   "metadata": {},
   "outputs": [],
   "source": [
    "lons, lats = source_def.get_lonlats()"
   ]
  },
  {
   "cell_type": "code",
   "execution_count": 164,
   "id": "e50f2819-b298-4300-a99d-bb138597282e",
   "metadata": {},
   "outputs": [
    {
     "name": "stderr",
     "output_type": "stream",
     "text": [
      "/opt/anaconda3/envs/clouds/lib/python3.8/site-packages/pyproj/crs/crs.py:1256: UserWarning: You will likely lose important projection information when converting to a PROJ string from another format. See: https://proj.org/faq.html#what-is-the-best-format-for-describing-coordinate-reference-systems\n",
      "  return self._crs.to_proj4(version=version)\n"
     ]
    },
    {
     "ename": "AttributeError",
     "evalue": "'numpy.ndarray' object has no attribute 'chunks'",
     "output_type": "error",
     "traceback": [
      "\u001b[0;31m---------------------------------------------------------------------------\u001b[0m",
      "\u001b[0;31mAttributeError\u001b[0m                            Traceback (most recent call last)",
      "\u001b[0;32m/var/folders/xj/5ps5mr8d5ysbd2mxxqjg3k800000gq/T/ipykernel_91028/430244258.py\u001b[0m in \u001b[0;36m<module>\u001b[0;34m\u001b[0m\n\u001b[0;32m----> 1\u001b[0;31m \u001b[0mresampler\u001b[0m \u001b[0;34m=\u001b[0m \u001b[0mBucketResampler\u001b[0m\u001b[0;34m(\u001b[0m\u001b[0mtarget_def\u001b[0m\u001b[0;34m,\u001b[0m \u001b[0mlons\u001b[0m\u001b[0;34m,\u001b[0m \u001b[0mlats\u001b[0m\u001b[0;34m)\u001b[0m\u001b[0;34m\u001b[0m\u001b[0;34m\u001b[0m\u001b[0m\n\u001b[0m",
      "\u001b[0;32m/opt/anaconda3/envs/clouds/lib/python3.8/site-packages/pyresample/bucket/__init__.py\u001b[0m in \u001b[0;36m__init__\u001b[0;34m(self, target_area, source_lons, source_lats)\u001b[0m\n\u001b[1;32m     88\u001b[0m         \u001b[0mself\u001b[0m\u001b[0;34m.\u001b[0m\u001b[0my_idxs\u001b[0m \u001b[0;34m=\u001b[0m \u001b[0;32mNone\u001b[0m\u001b[0;34m\u001b[0m\u001b[0;34m\u001b[0m\u001b[0m\n\u001b[1;32m     89\u001b[0m         \u001b[0mself\u001b[0m\u001b[0;34m.\u001b[0m\u001b[0midxs\u001b[0m \u001b[0;34m=\u001b[0m \u001b[0;32mNone\u001b[0m\u001b[0;34m\u001b[0m\u001b[0;34m\u001b[0m\u001b[0m\n\u001b[0;32m---> 90\u001b[0;31m         \u001b[0mself\u001b[0m\u001b[0;34m.\u001b[0m\u001b[0m_get_indices\u001b[0m\u001b[0;34m(\u001b[0m\u001b[0;34m)\u001b[0m\u001b[0;34m\u001b[0m\u001b[0;34m\u001b[0m\u001b[0m\n\u001b[0m\u001b[1;32m     91\u001b[0m         \u001b[0mself\u001b[0m\u001b[0;34m.\u001b[0m\u001b[0mcounts\u001b[0m \u001b[0;34m=\u001b[0m \u001b[0;32mNone\u001b[0m\u001b[0;34m\u001b[0m\u001b[0;34m\u001b[0m\u001b[0m\n\u001b[1;32m     92\u001b[0m \u001b[0;34m\u001b[0m\u001b[0m\n",
      "\u001b[0;32m/opt/anaconda3/envs/clouds/lib/python3.8/site-packages/pyresample/bucket/__init__.py\u001b[0m in \u001b[0;36m_get_indices\u001b[0;34m(self)\u001b[0m\n\u001b[1;32m    120\u001b[0m         \u001b[0mlats\u001b[0m \u001b[0;34m=\u001b[0m \u001b[0mself\u001b[0m\u001b[0;34m.\u001b[0m\u001b[0msource_lats\u001b[0m\u001b[0;34m.\u001b[0m\u001b[0mravel\u001b[0m\u001b[0;34m(\u001b[0m\u001b[0;34m)\u001b[0m\u001b[0;34m\u001b[0m\u001b[0;34m\u001b[0m\u001b[0m\n\u001b[1;32m    121\u001b[0m         result = da.map_blocks(self._get_proj_coordinates, lons, lats,\n\u001b[0;32m--> 122\u001b[0;31m                                new_axis=0, chunks=(2,) + lons.chunks)\n\u001b[0m\u001b[1;32m    123\u001b[0m         \u001b[0mproj_x\u001b[0m \u001b[0;34m=\u001b[0m \u001b[0mresult\u001b[0m\u001b[0;34m[\u001b[0m\u001b[0;36m0\u001b[0m\u001b[0;34m,\u001b[0m \u001b[0;34m:\u001b[0m\u001b[0;34m]\u001b[0m\u001b[0;34m\u001b[0m\u001b[0;34m\u001b[0m\u001b[0m\n\u001b[1;32m    124\u001b[0m         \u001b[0mproj_y\u001b[0m \u001b[0;34m=\u001b[0m \u001b[0mresult\u001b[0m\u001b[0;34m[\u001b[0m\u001b[0;36m1\u001b[0m\u001b[0;34m,\u001b[0m \u001b[0;34m:\u001b[0m\u001b[0;34m]\u001b[0m\u001b[0;34m\u001b[0m\u001b[0;34m\u001b[0m\u001b[0m\n",
      "\u001b[0;31mAttributeError\u001b[0m: 'numpy.ndarray' object has no attribute 'chunks'"
     ]
    }
   ],
   "source": [
    "resampler = BucketResampler(target_def, lons, lats)"
   ]
  },
  {
   "cell_type": "code",
   "execution_count": null,
   "id": "1b8174d5-0a36-4e3c-bc03-adc684409426",
   "metadata": {},
   "outputs": [],
   "source": [
    "snowline_resample = resampler.get_average(max_snowline)"
   ]
  },
  {
   "cell_type": "code",
   "execution_count": 161,
   "id": "58cfadaa-91c6-4e19-ab9f-d87b6cb42c33",
   "metadata": {},
   "outputs": [],
   "source": []
  },
  {
   "cell_type": "code",
   "execution_count": 170,
   "id": "a71f15d4-809a-448c-81c9-89680ebd115f",
   "metadata": {},
   "outputs": [
    {
     "data": {
      "text/plain": [
       "14.265123936000546"
      ]
     },
     "execution_count": 170,
     "metadata": {},
     "output_type": "execute_result"
    }
   ],
   "source": [
    "lons.max()"
   ]
  },
  {
   "cell_type": "code",
   "execution_count": 169,
   "id": "b9e64022-0359-489c-8a0b-e8f82bae8a2f",
   "metadata": {},
   "outputs": [
    {
     "data": {
      "text/plain": [
       "14.300277449185593"
      ]
     },
     "execution_count": 169,
     "metadata": {},
     "output_type": "execute_result"
    }
   ],
   "source": [
    "ismip['lon'].data.max()"
   ]
  },
  {
   "cell_type": "code",
   "execution_count": 156,
   "id": "2d5bffda-7fad-4ad0-abd1-bc7d29d4d7c3",
   "metadata": {},
   "outputs": [
    {
     "data": {
      "text/plain": [
       "(2881, 1681)"
      ]
     },
     "execution_count": 156,
     "metadata": {},
     "output_type": "execute_result"
    }
   ],
   "source": [
    "ismip['lon'].shape"
   ]
  },
  {
   "cell_type": "code",
   "execution_count": null,
   "id": "1a78c8fd-6278-47cf-ad97-a15745f2e49d",
   "metadata": {},
   "outputs": [],
   "source": []
  }
 ],
 "metadata": {
  "kernelspec": {
   "display_name": "Python 3 (ipykernel)",
   "language": "python",
   "name": "python3"
  },
  "language_info": {
   "codemirror_mode": {
    "name": "ipython",
    "version": 3
   },
   "file_extension": ".py",
   "mimetype": "text/x-python",
   "name": "python",
   "nbconvert_exporter": "python",
   "pygments_lexer": "ipython3",
   "version": "3.8.12"
  }
 },
 "nbformat": 4,
 "nbformat_minor": 5
}
