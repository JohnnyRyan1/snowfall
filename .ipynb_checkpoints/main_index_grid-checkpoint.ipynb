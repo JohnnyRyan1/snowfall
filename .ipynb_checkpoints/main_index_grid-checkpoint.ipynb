{
 "cells": [
  {
   "cell_type": "code",
   "execution_count": 1,
   "id": "d0000731-efbf-454e-80e9-89dc525d9713",
   "metadata": {},
   "outputs": [
    {
     "name": "stderr",
     "output_type": "stream",
     "text": [
      "/opt/anaconda3/envs/clouds/lib/python3.8/site-packages/pyresample/bilinear/__init__.py:50: UserWarning: XArray and/or zarr not found, XArrayBilinearResampler won't be available.\n",
      "  warnings.warn(\"XArray and/or zarr not found, XArrayBilinearResampler won't be available.\")\n"
     ]
    }
   ],
   "source": [
    "\"\"\"\n",
    "\n",
    "1. Make main indexing dataset containing:\n",
    "    - Longitude\n",
    "    - Latitude\n",
    "    - ISMIP grid cell index\n",
    "    - Region\n",
    "    - Elevation\n",
    "\n",
    "\"\"\"\n",
    "\n",
    "# Import libraries\n",
    "import glob\n",
    "import os\n",
    "from datetime import datetime\n",
    "import numpy as np\n",
    "import xarray as xr\n",
    "import pandas as pd\n",
    "import netCDF4\n",
    "import pyresample\n",
    "from pyproj import Transformer\n",
    "import matplotlib.pyplot as plt\n",
    "\n",
    "# Define base path\n",
    "path = '/Users/jryan4/Dropbox (University of Oregon)/research/snowfall/'\n",
    "\n",
    "# Read ISMIP data\n",
    "ismip = xr.open_dataset(path + 'data/masks/1km-ISMIP6.nc')\n",
    "\n",
    "# Define maximum snowline\n",
    "snowline_file = netCDF4.Dataset(path + 'data/masks/monthly_bare_ice_2012.nc')\n",
    "snowline = snowline_file.variables['bare_ice'][1, :, :].filled(np.nan)\n",
    "max_snowline = (snowline > 0.1)\n",
    "\n",
    "# Define regions\n",
    "regions = xr.open_dataset('/Users/jryan4/Dropbox (University of Oregon)/research/clouds/data/temp_albedo_summer_climatologies.nc')\n",
    "\n",
    "# Define ablation zone coordinates, elevations, and regions\n",
    "abl_lon = ismip['lon'].values[max_snowline]\n",
    "abl_lat = ismip['lat'].values[max_snowline]\n",
    "abl_ele = ismip['SRF'].values[max_snowline]\n",
    "abl_reg = regions['regions'].values[max_snowline]"
   ]
  },
  {
   "cell_type": "code",
   "execution_count": 2,
   "id": "6f9aed4a-1ccf-4660-b1be-47c92ceadac9",
   "metadata": {},
   "outputs": [],
   "source": [
    "# Indices of ablation zone\n",
    "idx, idy = np.where(max_snowline)\n",
    "\n",
    "# Save main indexing dataset\n",
    "ds_main = xr.Dataset(\n",
    "    data_vars={\n",
    "        \"region\": ((\"x\"), np.array(abl_reg).astype('int8')),\n",
    "        \"elevation\": ((\"x\"), np.array(abl_ele).astype('float64')),\n",
    "        \"index_x\": ((\"x\"), np.array(idx).astype('int16')),\n",
    "        \"index_y\": ((\"x\"), np.array(idy).astype('int16')),\n",
    "    },\n",
    "    \n",
    "    coords={\n",
    "        \"longitude\": (('x',), np.array(abl_lon)),\n",
    "        \"latitude\": (('x',), np.array(abl_lat)), \n",
    "    },\n",
    "    attrs={\n",
    "        \"Produced\": datetime.now().strftime(\"%Y-%m-%d %H:%M:%S\"),\n",
    "        \"Author\":'Johnny Ryan', \n",
    "        \"Email\":'jryan4@uoregon.edu'\n",
    "    },\n",
    ")\n",
    "\n",
    "ds_main.to_netcdf(path + 'data/masks/index_main.nc')"
   ]
  }
 ],
 "metadata": {
  "kernelspec": {
   "display_name": "Python 3 (ipykernel)",
   "language": "python",
   "name": "python3"
  },
  "language_info": {
   "codemirror_mode": {
    "name": "ipython",
    "version": 3
   },
   "file_extension": ".py",
   "mimetype": "text/x-python",
   "name": "python",
   "nbconvert_exporter": "python",
   "pygments_lexer": "ipython3",
   "version": "3.8.12"
  }
 },
 "nbformat": 4,
 "nbformat_minor": 5
}
