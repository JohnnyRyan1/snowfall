{
 "cells": [
  {
   "cell_type": "code",
   "execution_count": 1,
   "id": "8373c13c-2a1f-4732-a826-dc488e4d9d9a",
   "metadata": {},
   "outputs": [],
   "source": [
    "\"\"\"\n",
    "\n",
    "1. Plot snowfall rate in different sectors of the ablation zone for every year **before first day of glacier ice exposure**\n",
    "\n",
    "\"\"\"\n",
    "\n",
    "# Import libraries\n",
    "import glob\n",
    "import os\n",
    "import numpy as np\n",
    "import xarray as xr\n",
    "import netCDF4\n",
    "import pandas as pd\n",
    "from scipy import stats\n",
    "import matplotlib.pyplot as plt\n",
    "from matplotlib.offsetbox import AnchoredText\n",
    "\n",
    "# Define base path\n",
    "path = '/Users/jryan4/Dropbox (University of Oregon)/research/snowfall/'"
   ]
  },
  {
   "cell_type": "code",
   "execution_count": 2,
   "id": "8c04f35e-240a-498d-ac3b-ca0d8b0f781f",
   "metadata": {},
   "outputs": [],
   "source": [
    "# Read data\n",
    "index_data = xr.open_dataset(path + 'data/masks/index_main.nc')\n",
    "\n",
    "# Define maximum snowline\n",
    "snowline_file = netCDF4.Dataset(path + 'data/masks/monthly_bare_ice_2012.nc')\n",
    "snowline = snowline_file.variables['bare_ice'][1, :, :].filled(np.nan)\n",
    "max_snowline = (snowline > 0.1)\n",
    "\n",
    "# Define indices\n",
    "index = list(zip(index_data['index_x'].values, index_data['index_y'].values))\n",
    "\n",
    "# Define MERRA and exposure files\n",
    "merra_snow_files = sorted(glob.glob(path + 'data/merra/*.nc'))\n",
    "merra_temp_files = sorted(glob.glob(path + 'data/merra_t2m/*.nc'))\n",
    "expo_files = sorted(glob.glob(path + 'data/firn-ice-exposure-dates/*.nc'))\n",
    "\n",
    "# Define regions\n",
    "regions = np.arange(1, 9)\n",
    "\n",
    "# Define number of files\n",
    "number = 18"
   ]
  },
  {
   "cell_type": "code",
   "execution_count": 3,
   "id": "53649a46-322d-4662-a2e4-d00322db72d1",
   "metadata": {},
   "outputs": [
    {
     "ename": "IndexError",
     "evalue": "list index out of range",
     "output_type": "error",
     "traceback": [
      "\u001b[0;31m---------------------------------------------------------------------------\u001b[0m",
      "\u001b[0;31mIndexError\u001b[0m                                Traceback (most recent call last)",
      "\u001b[0;32m/var/folders/xj/5ps5mr8d5ysbd2mxxqjg3k800000gq/T/ipykernel_43058/3438007467.py\u001b[0m in \u001b[0;36m<module>\u001b[0;34m\u001b[0m\n\u001b[1;32m      5\u001b[0m     \u001b[0msnow\u001b[0m \u001b[0;34m=\u001b[0m \u001b[0mxr\u001b[0m\u001b[0;34m.\u001b[0m\u001b[0mopen_dataset\u001b[0m\u001b[0;34m(\u001b[0m\u001b[0mmerra_snow_files\u001b[0m\u001b[0;34m[\u001b[0m\u001b[0mi\u001b[0m\u001b[0;34m]\u001b[0m\u001b[0;34m)\u001b[0m\u001b[0;34m\u001b[0m\u001b[0;34m\u001b[0m\u001b[0m\n\u001b[1;32m      6\u001b[0m     \u001b[0mtemp\u001b[0m \u001b[0;34m=\u001b[0m \u001b[0mxr\u001b[0m\u001b[0;34m.\u001b[0m\u001b[0mopen_dataset\u001b[0m\u001b[0;34m(\u001b[0m\u001b[0mmerra_temp_files\u001b[0m\u001b[0;34m[\u001b[0m\u001b[0mi\u001b[0m\u001b[0;34m]\u001b[0m\u001b[0;34m)\u001b[0m\u001b[0;34m\u001b[0m\u001b[0;34m\u001b[0m\u001b[0m\n\u001b[0;32m----> 7\u001b[0;31m     \u001b[0mexpo\u001b[0m \u001b[0;34m=\u001b[0m \u001b[0mxr\u001b[0m\u001b[0;34m.\u001b[0m\u001b[0mopen_dataset\u001b[0m\u001b[0;34m(\u001b[0m\u001b[0mexpo_files\u001b[0m\u001b[0;34m[\u001b[0m\u001b[0mi\u001b[0m\u001b[0;34m]\u001b[0m\u001b[0;34m)\u001b[0m\u001b[0;34m\u001b[0m\u001b[0;34m\u001b[0m\u001b[0m\n\u001b[0m\u001b[1;32m      8\u001b[0m \u001b[0;34m\u001b[0m\u001b[0m\n\u001b[1;32m      9\u001b[0m     \u001b[0;31m# Mask ablation zone\u001b[0m\u001b[0;34m\u001b[0m\u001b[0;34m\u001b[0m\u001b[0;34m\u001b[0m\u001b[0m\n",
      "\u001b[0;31mIndexError\u001b[0m: list index out of range"
     ]
    }
   ],
   "source": [
    "mean_exposure = []\n",
    "mean_snowfall = []\n",
    "mean_temp = []\n",
    "for i in range(number):\n",
    "    snow = xr.open_dataset(merra_snow_files[i])\n",
    "    temp = xr.open_dataset(merra_temp_files[i])\n",
    "    expo = xr.open_dataset(expo_files[i])\n",
    "    \n",
    "    # Mask ablation zone\n",
    "    abl_expo = expo['first_55'].values[max_snowline].astype(float)\n",
    "    abl_expo[abl_expo == 0] = np.nan\n",
    "    abl_expo[abl_expo < 151] = np.nan\n",
    "    \n",
    "    # Mean date of exposure between Jun 1 and August 31\n",
    "    # Mask region and find mean snowfall between Jan 1 and May 31 \n",
    "    # Mask region and find mean temperature between May 31 and June 30\n",
    "    region_exposure = []\n",
    "    region_snowfall = []\n",
    "    region_temp = []\n",
    "    for region in regions:\n",
    "        region_mask = index_data['region'].values == region\n",
    "        region_snowfall.append(np.nanmean(np.mean(snow['snowfall'][1:151, :], axis=0)[region_mask]) * 86400 * 365 / 1000)\n",
    "        region_temp.append(np.nanmean(np.mean(temp['t2m'][151:181, :], axis=0)[region_mask]))\n",
    "        region_exposure.append(np.nanmedian(abl_expo[region_mask]))\n",
    "    \n",
    "    mean_exposure.append(region_exposure)\n",
    "    mean_snowfall.append(region_snowfall)\n",
    "    mean_temp.append(region_temp)\n"
   ]
  },
  {
   "cell_type": "code",
   "execution_count": 4,
   "id": "03ea9dc0-dafe-4e5a-ae46-898e383a92ec",
   "metadata": {},
   "outputs": [],
   "source": [
    "df_snowfall = pd.DataFrame(mean_snowfall, columns=['N', 'NE', 'E', 'SE', 'S', 'SW', 'W', 'NW'])\n",
    "df_temp = pd.DataFrame(mean_temp, columns=['N', 'NE', 'E', 'SE', 'S', 'SW', 'W', 'NW'])\n",
    "df_exposure= pd.DataFrame(mean_exposure, columns=['N', 'NE', 'E', 'SE', 'S', 'SW', 'W', 'NW'])\n",
    "\n",
    "df_temp['year'] = np.arange(2000, 2018)\n",
    "df_snowfall['year'] = np.arange(2000, 2018)\n",
    "df_exposure['year'] = np.arange(2000, 2018)"
   ]
  },
  {
   "cell_type": "code",
   "execution_count": 11,
   "id": "ac480aac-a5b8-4d97-a225-e68a7d18c9bc",
   "metadata": {},
   "outputs": [
    {
     "data": {
      "text/plain": [
       "[2000,\n",
       " 2001,\n",
       " 2002,\n",
       " 2003,\n",
       " 2004,\n",
       " 2005,\n",
       " 2006,\n",
       " 2007,\n",
       " 2008,\n",
       " 2009,\n",
       " 2010,\n",
       " 2011,\n",
       " 2012,\n",
       " 2013,\n",
       " 2014,\n",
       " 2015,\n",
       " 2016,\n",
       " 2017]"
      ]
     },
     "execution_count": 11,
     "metadata": {},
     "output_type": "execute_result"
    }
   ],
   "source": [
    "list(df_temp['year'])"
   ]
  },
  {
   "cell_type": "code",
   "execution_count": 14,
   "id": "5fc07cea-63ca-42cf-a772-a2b4063773f9",
   "metadata": {},
   "outputs": [
    {
     "data": {
      "image/png": "[encoded data removed]",
      "text/plain": [
       "<Figure size 720x288 with 2 Axes>"
      ]
     },
     "metadata": {
      "needs_background": "light"
     },
     "output_type": "display_data"
    }
   ],
   "source": [
    "reg = 'SW'\n",
    "reg_name = 'SouthWest'\n",
    "\n",
    "s1, i1, r1, p1, e1 = stats.linregress(df_temp[reg],df_exposure[reg])\n",
    "s2, i2, r2, p2, e2 = stats.linregress(df_snowfall[reg],df_exposure[reg])\n",
    "\n",
    "fig, (ax1, ax2) = plt.subplots(nrows=1, ncols=2, figsize=(10, 4), sharey=True, layout='constrained')\n",
    "fig.suptitle(reg_name, fontsize=16)\n",
    "ax1.scatter(df_temp[reg], df_exposure[reg])\n",
    "ax1.set_xlabel('Air temperature in June (K)', fontsize=14)\n",
    "ax1.set_ylabel('Bare ice exposure (DOY)', fontsize=14)\n",
    "\n",
    "textstr = f'R$^2$ = {r1**2:.2f}'\n",
    "text_box = AnchoredText(textstr, frameon=True, loc=3, pad=0.5, prop=dict(size=14))\n",
    "text_box.patch.set_boxstyle(\"round,pad=0.,rounding_size=0.2\")\n",
    "plt.setp(text_box.patch, facecolor='white', alpha=0.7)\n",
    "ax1.add_artist(text_box)\n",
    "for i, label in enumerate(list(df_temp['year'])):\n",
    "    ax1.annotate(label, (df_temp[reg][i], df_exposure[reg][i]))\n",
    "\n",
    "ax2.scatter(df_snowfall[reg], df_exposure[reg])\n",
    "ax2.set_xlabel('Snowfall between Jan-June (m a$^{-1}$)', fontsize=14)\n",
    "\n",
    "textstr = f'R$^2$ = {r2**2:.2f}'\n",
    "text_box = AnchoredText(textstr, frameon=True, loc=4, pad=0.5, prop=dict(size=14))\n",
    "text_box.patch.set_boxstyle(\"round,pad=0.,rounding_size=0.2\")\n",
    "plt.setp(text_box.patch, facecolor='white', alpha=0.7)\n",
    "ax2.add_artist(text_box)\n",
    "for i, label in enumerate(list(df_temp['year'])):\n",
    "    ax2.annotate(label, (df_snowfall[reg][i], df_exposure[reg][i]))\n",
    "\n",
    "for ax in [ax1, ax2]:\n",
    "    ax.grid(ls='dashed', lw=1)\n",
    "    ax.tick_params(axis='both', which='major', labelsize=14)\n"
   ]
  },
  {
   "cell_type": "code",
   "execution_count": 16,
   "id": "f772bd72-2352-4ef9-ba93-3c87e4a5b229",
   "metadata": {},
   "outputs": [
    {
     "data": {
      "text/plain": [
       "N        186.666667\n",
       "NE       186.166667\n",
       "E        183.888889\n",
       "SE       194.000000\n",
       "S        196.333333\n",
       "SW       184.833333\n",
       "W        185.055556\n",
       "NW       186.333333\n",
       "year    2008.500000\n",
       "dtype: float64"
      ]
     },
     "execution_count": 16,
     "metadata": {},
     "output_type": "execute_result"
    }
   ],
   "source": [
    "df_exposure.mean()"
   ]
  },
  {
   "cell_type": "code",
   "execution_count": null,
   "id": "d003f5ef-5775-4568-9fb4-928d8175158b",
   "metadata": {},
   "outputs": [],
   "source": []
  }
 ],
 "metadata": {
  "kernelspec": {
   "display_name": "Python 3 (ipykernel)",
   "language": "python",
   "name": "python3"
  },
  "language_info": {
   "codemirror_mode": {
    "name": "ipython",
    "version": 3
   },
   "file_extension": ".py",
   "mimetype": "text/x-python",
   "name": "python",
   "nbconvert_exporter": "python",
   "pygments_lexer": "ipython3",
   "version": "3.8.12"
  }
 },
 "nbformat": 4,
 "nbformat_minor": 5
}
