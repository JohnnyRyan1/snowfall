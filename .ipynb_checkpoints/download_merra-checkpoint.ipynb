{
 "cells": [
  {
   "cell_type": "code",
   "execution_count": 176,
   "id": "d8031d2e-825f-4f1d-b2db-88c611523590",
   "metadata": {},
   "outputs": [],
   "source": [
    "\"\"\"\n",
    "\n",
    "1. Download MERRA2 data at daily interval\n",
    "\n",
    "2. Resample to ISMIP grid\n",
    "\n",
    "3. Mask out snowfall rates in the ablation zone\n",
    "\n",
    "4. Save as NetCDF4\n",
    "    - ISMIP grid cell index\n",
    "    - Time\n",
    "    - Snowfall\n",
    "    - Region\n",
    "    - Elevation\n",
    "\n",
    "5. Delete original files\n",
    "\n",
    "6. Plot snowfall rate in different sectors of the ablation zone for every year **before first day of glacier ice exposure**\n",
    "\n",
    "\"\"\"\n",
    "\n",
    "# Import libraries\n",
    "import numpy as np\n",
    "import xarray as xr\n",
    "import pandas as pd\n",
    "import netCDF4\n",
    "import pyresample\n",
    "from pyproj import Transformer\n",
    "import matplotlib.pyplot as plt\n",
    "\n",
    "# Define base path\n",
    "path = '/Users/jryan4/Dropbox (University of Oregon)/research/snowfall/'\n",
    "\n",
    "# Define path to temporary folder\n",
    "tmp = path + 'data/tmp_merra/'\n",
    "\n",
    "# Define path to links\n",
    "links = pd.read_csv(path + 'data/links/subset_M2T1NXINT_5.12.4_20200101_20220531_Daily_PRECSN_Greenland.txt', sep='\\t', header=None)\n",
    "links.rename(columns={0: \"link\"}, inplace=True)\n",
    "\n",
    "# Define years\n",
    "years = np.arange(2000, 2023)"
   ]
  },
  {
   "cell_type": "code",
   "execution_count": 134,
   "id": "0010a3bd-275f-48c5-bbeb-4d1368192baa",
   "metadata": {},
   "outputs": [],
   "source": [
    "# Read ISMIP data\n",
    "ismip = xr.open_dataset(path + 'data/masks/1km-ISMIP6.nc')\n",
    "\n",
    "# Define maximum snowline\n",
    "snowline_file = netCDF4.Dataset(path + 'data/masks/monthly_bare_ice_2012.nc')\n",
    "snowline = snowline_file.variables['bare_ice'][1, :, :].filled(np.nan)\n",
    "max_snowline = (snowline > 0.1)\n",
    "\n",
    "# Define regions\n",
    "regions = xr.open_dataset('/Users/jryan4/Dropbox (University of Oregon)/research/clouds/data/temp_albedo_summer_climatologies.nc')\n",
    "\n",
    "# Define ablation zone coordinates, elevations, and regions\n",
    "abl_lon = ismip['lon'].values[max_snowline]\n",
    "abl_lat = ismip['lat'].values[max_snowline]\n",
    "abl_ele = ismip['SRF'].values[max_snowline]\n",
    "abl_reg = regions['regions'].values[max_snowline]\n",
    "\n",
    "# Define MERRA data\n",
    "merra_file = xr.open_dataset(path + 'data/merra_sample/MERRA2_200.tavg1_2d_int_Nx.20000101.SUB.nc')\n",
    "\n",
    "# Meshgrid lat/lons\n",
    "merra_mesh_lon, merra_mesh_lat = np.meshgrid(merra['lon'], merra['lat'])\n",
    "\n",
    "# Define grid definitions for resampling to ISMIP grid\n",
    "orig_def_regions = pyresample.geometry.GridDefinition(lons=merra_mesh_lon, lats=merra_mesh_lat)\n",
    "targ_def = pyresample.geometry.GridDefinition(lons=ismip['lon'], lats=ismip['lat'])"
   ]
  },
  {
   "cell_type": "code",
   "execution_count": 188,
   "id": "0d705b91-542a-4c23-af49-16fe6749afbd",
   "metadata": {},
   "outputs": [
    {
     "data": {
      "text/plain": [
       "'2000'"
      ]
     },
     "execution_count": 188,
     "metadata": {},
     "output_type": "execute_result"
    }
   ],
   "source": [
    "for year in years:"
   ]
  },
  {
   "cell_type": "code",
   "execution_count": null,
   "id": "8a981ea2-78e6-4842-bde6-a55f20ff692d",
   "metadata": {},
   "outputs": [],
   "source": [
    "%%capture\n",
    "# Loop over every link and append a 1D array of ablation zone snowfall + time\n",
    "\n",
    "    year='2000'\n",
    "    t = []\n",
    "    snowfall = []\n",
    "    for j in range(len(links)):\n",
    "        if str(year) == links['year'].iloc[j]:\n",
    "\n",
    "            # Index link\n",
    "            link = '\"' + str(links.iloc[j].values[0]) + '\"'\n",
    "\n",
    "            # Download MERRA2 using WGET\n",
    "            !wget --load-cookies ~/.urs_cookies --save-cookies ~/.urs_cookies --auth-no-challenge=on --keep-session-cookies --no-check-certificate --content-disposition $link --directory-prefix=tmp -nd\n",
    "\n",
    "            # Import temporary file\n",
    "            merra = xr.open_dataset(glob.glob(path + 'repo/tmp/*.nc')[0])\n",
    "\n",
    "            # Determine nearest (w.r.t. great circle distance) neighbour in the grid.\n",
    "            snow_resample = pyresample.kd_tree.resample_nearest(source_geo_def=orig_def_regions, \n",
    "                                                         target_geo_def=targ_def, \n",
    "                                                         data=merra['PRECSN'].values, \n",
    "                                                         radius_of_influence=50000)\n",
    "\n",
    "            # Append to list\n",
    "            snowfall.append(snow_resample[max_snowline])\n",
    "            t.append(merra['time'].values[0])"
   ]
  },
  {
   "cell_type": "code",
   "execution_count": 133,
   "id": "69ad6c6c-6d9c-4e55-986d-c6a1e56936b2",
   "metadata": {},
   "outputs": [],
   "source": []
  },
  {
   "cell_type": "code",
   "execution_count": 138,
   "id": "739c1486-2b2f-4493-9213-d9d150b09723",
   "metadata": {},
   "outputs": [],
   "source": [
    "# Clean up\n",
    "\n",
    "# Delete temporary files\n",
    "\n",
    "# Save to xarray-compatible NetCDF"
   ]
  },
  {
   "cell_type": "code",
   "execution_count": null,
   "id": "6e210f3d-0925-46f6-810a-5630549a2e57",
   "metadata": {},
   "outputs": [],
   "source": []
  },
  {
   "cell_type": "code",
   "execution_count": null,
   "id": "906092e6-4c37-406f-a572-4fe995708549",
   "metadata": {},
   "outputs": [],
   "source": []
  },
  {
   "cell_type": "code",
   "execution_count": null,
   "id": "cc437bb0-1a8f-40be-802b-f25460f2af9d",
   "metadata": {},
   "outputs": [],
   "source": []
  },
  {
   "cell_type": "code",
   "execution_count": null,
   "id": "43bda5e9-45c2-4c87-9d49-ddd3fb5402a9",
   "metadata": {},
   "outputs": [],
   "source": []
  },
  {
   "cell_type": "code",
   "execution_count": null,
   "id": "417584aa-1ca0-4b46-986c-dfaccdaa91f2",
   "metadata": {},
   "outputs": [],
   "source": []
  },
  {
   "cell_type": "code",
   "execution_count": null,
   "id": "8c331161-269f-4dea-946d-1a761419bed3",
   "metadata": {},
   "outputs": [],
   "source": []
  },
  {
   "cell_type": "code",
   "execution_count": 3,
   "id": "0d2d32b8-b116-49b7-b80c-b2ed40929f7e",
   "metadata": {},
   "outputs": [],
   "source": []
  },
  {
   "cell_type": "code",
   "execution_count": null,
   "id": "5a28f001-8402-4476-9901-82b193ed792b",
   "metadata": {},
   "outputs": [],
   "source": []
  }
 ],
 "metadata": {
  "kernelspec": {
   "display_name": "Python 3 (ipykernel)",
   "language": "python",
   "name": "python3"
  },
  "language_info": {
   "codemirror_mode": {
    "name": "ipython",
    "version": 3
   },
   "file_extension": ".py",
   "mimetype": "text/x-python",
   "name": "python",
   "nbconvert_exporter": "python",
   "pygments_lexer": "ipython3",
   "version": "3.8.12"
  }
 },
 "nbformat": 4,
 "nbformat_minor": 5
}
