{
 "cells": [
  {
   "cell_type": "code",
   "execution_count": null,
   "id": "c985acc4-3542-48b9-b82b-3d2ddb8598f7",
   "metadata": {},
   "outputs": [],
   "source": [
    "\"\"\" \n",
    "\n",
    "DESCRIPTION\n",
    "\n",
    "1. Evaluate MERRA2 snowfall data using SUMup dataset.\n",
    "\n",
    "\"\"\""
   ]
  },
  {
   "cell_type": "code",
   "execution_count": 214,
   "id": "7118925c-8565-4685-8216-c1eeabd8c74e",
   "metadata": {},
   "outputs": [],
   "source": [
    "# Import modules\n",
    "import xarray as xr\n",
    "import numpy as np\n",
    "import pandas as pd\n",
    "import glob\n",
    "import matplotlib.pyplot as plt\n",
    "from scipy import stats\n",
    "\n",
    "# Define path\n",
    "path = '/Users/jryan4/Dropbox (University of Oregon)/research/snowfall/data/'"
   ]
  },
  {
   "cell_type": "code",
   "execution_count": 3,
   "id": "147bf67e-2e82-4c23-a265-84a4edf404b7",
   "metadata": {},
   "outputs": [],
   "source": [
    "# Read SUMup data\n",
    "sumup = pd.read_csv(path + 'sumup/SUMup_dataset_july2018_accumulation_on_land_ice.csv')\n",
    "\n",
    "# Read MERRA data\n",
    "merra = xr.open_dataset(path + 'merra_accumulation_J-J_1980-2021.nc')"
   ]
  },
  {
   "cell_type": "code",
   "execution_count": 4,
   "id": "6214e440-9e21-48f6-9a1e-1e44036ca229",
   "metadata": {},
   "outputs": [],
   "source": [
    "# Filter Greenland\n",
    "sumup = sumup[sumup['lat'] > 0]"
   ]
  },
  {
   "cell_type": "code",
   "execution_count": 5,
   "id": "37ece188-c0ab-4bde-976b-25fefea5a2ba",
   "metadata": {},
   "outputs": [],
   "source": [
    "sumup['start_year'][sumup['start_year'] == -9999] = np.nan\n",
    "sumup['stop_year'][sumup['stop_year'] == -9999] = np.nan\n",
    "sumup['year'][sumup['year'] == -9999] = np.nan"
   ]
  },
  {
   "cell_type": "code",
   "execution_count": null,
   "id": "649217ed-11ff-4e0f-b88f-d775ffbc89f4",
   "metadata": {},
   "outputs": [],
   "source": [
    "# Group by lat and lon\n",
    "unique_cores = sumup.groupby(['lat', 'lon']).size().reset_index()\n",
    "unique_cores.columns = ['lat','lon','count']"
   ]
  },
  {
   "cell_type": "code",
   "execution_count": null,
   "id": "35b13ca7-2ae6-4a09-baf4-e5fbfc5178cb",
   "metadata": {},
   "outputs": [],
   "source": [
    "merra_acc_all = []\n",
    "core_acc_all = []\n",
    "period_all = []\n",
    "\n",
    "for j in range(unique_cores.shape[0]):\n",
    "    #print('Processing %.0f out of %.0f' % (j, unique_cores.shape[0]))\n",
    "    # Index by individual core\n",
    "    core = sumup[(sumup['lat'] == unique_cores['lat'].iloc[j]) & (sumup['lon'] == unique_cores['lon'].iloc[j])]\n",
    "\n",
    "    # Check to see if core represents 'year' or 'start and stop year'\n",
    "    merra_acc = []\n",
    "    core_acc = []\n",
    "    period = []\n",
    "\n",
    "    if np.isfinite(core['year']).sum() > np.isfinite(core['start_year']).sum():\n",
    "        period.append(0)\n",
    "        index_year = core[np.isfinite(core['year']) & (core['year'] > 1980)].index\n",
    "\n",
    "        for idx in index_year:\n",
    "\n",
    "            abslat = np.abs(merra['latitude'] - core.loc[idx]['lat'])\n",
    "            abslon = np.abs(merra['longitude'] - core.loc[idx]['lon'])\n",
    "            c = np.maximum(abslon, abslat)\n",
    "            x, y = np.where(c == np.min(c))\n",
    "            grid_acc = merra['acc'][x[0], y[0]]\n",
    "\n",
    "            merra_acc.append(grid_acc[np.argmin(np.abs(core.loc[idx]['year'] - merra['z'].values))].values)\n",
    "            core_acc.append(core.loc[idx]['accumulation'])\n",
    "\n",
    "    if np.isfinite(core['start_year']).sum() > np.isfinite(core['year']).sum():\n",
    "        period.append(1)\n",
    "        index_year = core[np.isfinite(core['start_year']) & (core['start_year'] > 1980)].index\n",
    "\n",
    "        for idx in index_year:\n",
    "            abslat = np.abs(merra['latitude'] - core.loc[idx]['lat'])\n",
    "            abslon = np.abs(merra['longitude'] - core.loc[idx]['lon'])\n",
    "            c = np.maximum(abslon, abslat)\n",
    "            x, y = np.where(c == np.min(c))\n",
    "            grid_acc = merra['acc'][x[0], y[0]]\n",
    "\n",
    "            start = np.argmin(np.abs(core.loc[idx]['start_year'] - merra['z'].values))\n",
    "            stop = np.argmin(np.abs(core.loc[idx]['stop_year'] - merra['z'].values))\n",
    "\n",
    "            merra_acc.append(grid_acc[start:stop].mean().values)\n",
    "            core_acc.append(core.loc[idx]['accumulation'])\n",
    "    \n",
    "    merra_acc_all.append(merra_acc)\n",
    "    core_acc_all.append(core_acc)\n",
    "    period_all.append(period)\n",
    "   "
   ]
  },
  {
   "cell_type": "code",
   "execution_count": 211,
   "id": "f87f8294-4f1a-4194-8ee5-7983af7ae25d",
   "metadata": {},
   "outputs": [],
   "source": [
    "flat_merra = [item for sublist in merra_acc_all for item in sublist]\n",
    "flat_core = [item for sublist in core_acc_all for item in sublist]"
   ]
  },
  {
   "cell_type": "code",
   "execution_count": 212,
   "id": "5ec218bb-1742-4436-85ca-5c3164581b41",
   "metadata": {},
   "outputs": [
    {
     "data": {
      "text/plain": [
       "<matplotlib.collections.PathCollection at 0x7fb6a1e082e0>"
      ]
     },
     "execution_count": 212,
     "metadata": {},
     "output_type": "execute_result"
    },
    {
     "data": {
      "image/png": "[encoded data removed]",
      "text/plain": [
       "<Figure size 432x288 with 1 Axes>"
      ]
     },
     "metadata": {
      "needs_background": "light"
     },
     "output_type": "display_data"
    }
   ],
   "source": [
    "plt.scatter(flat_core, flat_merra)"
   ]
  },
  {
   "cell_type": "code",
   "execution_count": 215,
   "id": "bc35a092-9f58-4d88-ab9c-eaf9045372ca",
   "metadata": {},
   "outputs": [],
   "source": [
    "s1, i1, r1, p1, e1 = stats.linregress(flat_core, flat_merra)"
   ]
  },
  {
   "cell_type": "code",
   "execution_count": 217,
   "id": "1bc22049-38f6-4382-820c-9c43c1d5cb3c",
   "metadata": {},
   "outputs": [
    {
     "data": {
      "text/plain": [
       "0.5520908971412332"
      ]
     },
     "execution_count": 217,
     "metadata": {},
     "output_type": "execute_result"
    }
   ],
   "source": []
  },
  {
   "cell_type": "code",
   "execution_count": 177,
   "id": "d524a145-b8f5-49b4-b53c-49fd2866f923",
   "metadata": {},
   "outputs": [],
   "source": [
    "df = core.loc[index_year]\n",
    "df.set_index('year', inplace=True)\n",
    "df.sort_index(inplace=True)\n"
   ]
  },
  {
   "cell_type": "code",
   "execution_count": 178,
   "id": "1e9673c9-e9fd-4d80-9ae6-6debc8e0b7b3",
   "metadata": {},
   "outputs": [
    {
     "data": {
      "text/plain": [
       "[<matplotlib.lines.Line2D at 0x7fb6a152b190>]"
      ]
     },
     "execution_count": 178,
     "metadata": {},
     "output_type": "execute_result"
    },
    {
     "data": {
      "image/png": "[encoded data removed]",
      "text/plain": [
       "<Figure size 432x288 with 1 Axes>"
      ]
     },
     "metadata": {
      "needs_background": "light"
     },
     "output_type": "display_data"
    }
   ],
   "source": [
    "plt.plot(np.arange(1981, 2022, 1), merra['acc'][x[0], y[0], :])\n",
    "plt.plot(df.index, df['accumulation'])"
   ]
  },
  {
   "cell_type": "code",
   "execution_count": 20,
   "id": "2cb0ef2e-ead4-439e-b878-b1cad0b34277",
   "metadata": {},
   "outputs": [
    {
     "ename": "SyntaxError",
     "evalue": "unexpected EOF while parsing (25669177.py, line 1)",
     "output_type": "error",
     "traceback": [
      "\u001b[0;36m  File \u001b[0;32m\"/var/folders/xj/5ps5mr8d5ysbd2mxxqjg3k800000gq/T/ipykernel_91613/25669177.py\"\u001b[0;36m, line \u001b[0;32m1\u001b[0m\n\u001b[0;31m    if np.isfinite(core['start_year']).sum() > np.isfinite(core['start_year']).sum():\u001b[0m\n\u001b[0m                                                                                     ^\u001b[0m\n\u001b[0;31mSyntaxError\u001b[0m\u001b[0;31m:\u001b[0m unexpected EOF while parsing\n"
     ]
    }
   ],
   "source": []
  },
  {
   "cell_type": "code",
   "execution_count": null,
   "id": "88b07b8c-a4ab-4e49-b158-23ed9ab7bd4e",
   "metadata": {},
   "outputs": [],
   "source": []
  }
 ],
 "metadata": {
  "kernelspec": {
   "display_name": "Python 3 (ipykernel)",
   "language": "python",
   "name": "python3"
  },
  "language_info": {
   "codemirror_mode": {
    "name": "ipython",
    "version": 3
   },
   "file_extension": ".py",
   "mimetype": "text/x-python",
   "name": "python",
   "nbconvert_exporter": "python",
   "pygments_lexer": "ipython3",
   "version": "3.8.12"
  }
 },
 "nbformat": 4,
 "nbformat_minor": 5
}
