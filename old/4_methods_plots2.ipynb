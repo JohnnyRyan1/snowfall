{
 "cells": [
  {
   "cell_type": "code",
   "execution_count": 2,
   "id": "79e33afd-2e94-4da9-a3cf-2ab2db204e53",
   "metadata": {},
   "outputs": [],
   "source": [
    "\"\"\" \n",
    "\n",
    "DESCRIPTION\n",
    "\n",
    "1. Plot showing histogram of exposures for each regions.\n",
    "\n",
    "\"\"\"\n",
    "\n",
    "import numpy as np\n",
    "import netCDF4\n",
    "import glob\n",
    "import xarray as xr\n",
    "import matplotlib.pyplot as plt"
   ]
  },
  {
   "cell_type": "code",
   "execution_count": 11,
   "id": "ae3522bc-7a14-4421-a480-aec115a54bdb",
   "metadata": {},
   "outputs": [],
   "source": [
    "# Define path\n",
    "path = '/Users/jryan4/Dropbox (University of Oregon)/research/snowfall/data/'\n",
    "\n",
    "# Define save path\n",
    "savepath = '/Users/jryan4/Dropbox (University of Oregon)/research/snowfall/figures/'\n",
    "\n",
    "# Define exposure files\n",
    "expo_files = sorted(glob.glob(path + 'modis_exposure_v2/*.nc'))\n",
    "\n",
    "# Read data\n",
    "index_data = xr.open_dataset(path + 'masks/index_main.nc', engine='netcdf4')\n",
    "\n",
    "# Define maximum snowline\n",
    "snowline_file = netCDF4.Dataset(path + 'masks/monthly_bare_ice_2012.nc')\n",
    "snowline = snowline_file.variables['bare_ice'][1, :, :].filled(np.nan)\n",
    "max_snowline = (snowline > 0.1)\n",
    "\n",
    "# Define indices\n",
    "index = list(zip(index_data['index_x'].values, index_data['index_y'].values))\n",
    "\n",
    "# Define regions\n",
    "regions = np.arange(1, 9)\n",
    "\n",
    "# Define number of years\n",
    "years = np.arange(2001, 2022, 1)"
   ]
  },
  {
   "cell_type": "code",
   "execution_count": 24,
   "id": "29b4bb17-6d23-4a74-9c74-d5a6a749addb",
   "metadata": {},
   "outputs": [],
   "source": [
    "region = 6\n",
    "i =13"
   ]
  },
  {
   "cell_type": "code",
   "execution_count": 12,
   "id": "bfd65957-749c-4494-8168-415e1f846993",
   "metadata": {},
   "outputs": [],
   "source": [
    "mean_exposure = []\n",
    "\n",
    "for region in regions:\n",
    "      \n",
    "    region_exposure = []\n",
    "    for i in range(len(years)):\n",
    "        \n",
    "        # Import data\n",
    "        expo = xr.open_dataset(expo_files[i])\n",
    "\n",
    "        # Mask ablation zone\n",
    "        abl_expo = expo['first_55'].values[max_snowline].astype(float)\n",
    "        abl_expo[abl_expo == 0] = np.nan\n",
    "        abl_expo[abl_expo < 151] = np.nan\n",
    "\n",
    "        region_mask = index_data['region'].values == region\n",
    "        region_exposure.append(np.nanmedian(abl_expo[region_mask]))\n",
    "        \n",
    "    mean_exposure.append(region_exposure)"
   ]
  },
  {
   "cell_type": "code",
   "execution_count": 25,
   "id": "81c9d1f9-02dc-4fa4-9cdc-6fc2e364f531",
   "metadata": {},
   "outputs": [],
   "source": [
    "# Import data\n",
    "expo = xr.open_dataset(expo_files[i])\n",
    "\n",
    "# Mask ablation zone\n",
    "abl_expo = expo['first_55'].values[max_snowline].astype(float)\n",
    "abl_expo[abl_expo == 0] = np.nan\n",
    "abl_expo[abl_expo < 151] = np.nan\n",
    "\n",
    "region_mask = index_data['region'].values == region"
   ]
  },
  {
   "cell_type": "code",
   "execution_count": 15,
   "id": "8e12801d-85fb-4aee-bb21-b29dd8bcf313",
   "metadata": {},
   "outputs": [
    {
     "data": {
      "text/plain": [
       "(35133,)"
      ]
     },
     "execution_count": 15,
     "metadata": {},
     "output_type": "execute_result"
    }
   ],
   "source": [
    "fig, ax1 = plt.subplots(nrows=1, ncols=1, figsize=(7, 5), layout='constrained')\n",
    "\n",
    "ax1.hist(mean_exposure)\n",
    "\n",
    "for ax in [ax1, ax3]:\n",
    "    ax.set_ylabel('Albedo (unitless)', fontsize=14)\n",
    "    \n",
    "for ax in [ax3, ax4]:\n",
    "    ax.set_xlabel('Time (Day of year)', fontsize=14)\n",
    "\n",
    "for ax in [ax1, ax2, ax3, ax4]:\n",
    "    ax.grid(ls='dashed', lw=1, zorder=1)\n",
    "    ax.tick_params(axis='both', which='major', labelsize=13)\n",
    "    ax.set_ylim(0, 100)\n",
    "    ax.set_xlim(150, 275)\n",
    "\n",
    "ax1.text(0.03, 0.85, \"a\", fontsize=20, transform=ax1.transAxes)\n",
    "ax2.text(0.03, 0.85, \"b\", fontsize=20, transform=ax2.transAxes)\n",
    "ax3.text(0.03, 0.85, \"c\", fontsize=20, transform=ax3.transAxes)\n",
    "ax4.text(0.03, 0.85, \"d\", fontsize=20, transform=ax4.transAxes)"
   ]
  },
  {
   "cell_type": "code",
   "execution_count": 33,
   "id": "07c5350f-a824-48c1-81b9-541d5c9f8839",
   "metadata": {},
   "outputs": [
    {
     "data": {
      "text/plain": [
       "(array([1.476e+03, 7.890e+02, 5.490e+02, 1.926e+03, 5.830e+02, 1.017e+03,\n",
       "        4.210e+02, 1.589e+03, 3.911e+03, 2.434e+03, 1.575e+03, 4.170e+02,\n",
       "        3.620e+02, 1.250e+02, 5.700e+01, 1.520e+02, 1.180e+02, 1.372e+03,\n",
       "        9.440e+02, 3.044e+03, 4.963e+03, 1.805e+03, 3.960e+02, 6.320e+02,\n",
       "        3.210e+02, 4.590e+02, 1.481e+03, 2.600e+03, 1.363e+03, 1.185e+03,\n",
       "        1.425e+03, 4.480e+02, 1.270e+02, 6.300e+01, 2.000e+01, 3.500e+01,\n",
       "        3.600e+01, 3.900e+01, 7.000e+01, 2.530e+02, 8.290e+02, 3.290e+02,\n",
       "        9.300e+01, 7.200e+01, 7.600e+01, 8.700e+01, 3.800e+01, 2.900e+01,\n",
       "        2.000e+01, 1.000e+00]),\n",
       " array([152. , 153.8, 155.6, 157.4, 159.2, 161. , 162.8, 164.6, 166.4,\n",
       "        168.2, 170. , 171.8, 173.6, 175.4, 177.2, 179. , 180.8, 182.6,\n",
       "        184.4, 186.2, 188. , 189.8, 191.6, 193.4, 195.2, 197. , 198.8,\n",
       "        200.6, 202.4, 204.2, 206. , 207.8, 209.6, 211.4, 213.2, 215. ,\n",
       "        216.8, 218.6, 220.4, 222.2, 224. , 225.8, 227.6, 229.4, 231.2,\n",
       "        233. , 234.8, 236.6, 238.4, 240.2, 242. ]),\n",
       " <BarContainer object of 50 artists>)"
      ]
     },
     "execution_count": 33,
     "metadata": {},
     "output_type": "execute_result"
    },
    {
     "data": {
      "image/png": "[encoded data removed]",
      "text/plain": [
       "<Figure size 432x288 with 1 Axes>"
      ]
     },
     "metadata": {
      "needs_background": "light"
     },
     "output_type": "display_data"
    }
   ],
   "source": [
    "plt.hist(abl_expo[region_mask], bins=50)"
   ]
  },
  {
   "cell_type": "code",
   "execution_count": 34,
   "id": "6df7f1bb-68f5-43fb-97a3-f1c41e5aa8ba",
   "metadata": {},
   "outputs": [
    {
     "data": {
      "text/plain": [
       "187.0"
      ]
     },
     "execution_count": 34,
     "metadata": {},
     "output_type": "execute_result"
    }
   ],
   "source": [
    "np.nanmedian(abl_expo[region_mask])"
   ]
  },
  {
   "cell_type": "code",
   "execution_count": 22,
   "id": "0e794d16-642c-4dcc-b400-a504f80eb6e4",
   "metadata": {},
   "outputs": [
    {
     "data": {
      "text/plain": [
       "20"
      ]
     },
     "execution_count": 22,
     "metadata": {},
     "output_type": "execute_result"
    }
   ],
   "source": [
    "i"
   ]
  },
  {
   "cell_type": "code",
   "execution_count": null,
   "id": "d28d0e53-4638-4958-88b5-062c974c0fc2",
   "metadata": {},
   "outputs": [],
   "source": []
  }
 ],
 "metadata": {
  "kernelspec": {
   "display_name": "Python 3 (ipykernel)",
   "language": "python",
   "name": "python3"
  },
  "language_info": {
   "codemirror_mode": {
    "name": "ipython",
    "version": 3
   },
   "file_extension": ".py",
   "mimetype": "text/x-python",
   "name": "python",
   "nbconvert_exporter": "python",
   "pygments_lexer": "ipython3",
   "version": "3.8.12"
  }
 },
 "nbformat": 4,
 "nbformat_minor": 5
}
